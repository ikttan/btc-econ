{
 "cells": [
  {
   "cell_type": "markdown",
   "metadata": {},
   "source": [
    "# Causality of Economic Uncertainty on Bitcoin Prices\n",
    "_School of Information Technology & School of Business_ <br>\n",
    "_Monash University Malaysia_<br>\n",
    "(c) Copyright 2020, Ian Tan & Poon Wai Ching"
   ]
  },
  {
   "cell_type": "markdown",
   "metadata": {},
   "source": [
    "For Cross Mapping<br>\n",
    "https://github.com/nickc1/skccm\n",
    "\n",
    "Good tutorial<br>\n",
    "https://notebook.community/NickC1/skCCM/scripts/skCCM_examples\n",
    "\n",
    "Original article<br>\n",
    "https://pubmed.ncbi.nlm.nih.gov/22997134/\n",
    "\n",
    "Good explanation<br>\n",
    "https://arxiv.org/abs/1407.5696"
   ]
  },
  {
   "cell_type": "markdown",
   "metadata": {},
   "source": [
    "Steps\n",
    "\n",
    "- Read dataset (BTC, Global EPU from (https://www.policyuncertainty.com/index.html)\n",
    "- Wrangle and merge dataset\n",
    "- Conduct Convergent Cross Mapping (you may need to install skccm)"
   ]
  },
  {
   "cell_type": "code",
   "execution_count": 1,
   "metadata": {},
   "outputs": [],
   "source": [
    "import numpy as np\n",
    "import pandas as pd\n",
    "import matplotlib.pyplot as plt\n",
    "%matplotlib inline "
   ]
  },
  {
   "cell_type": "markdown",
   "metadata": {},
   "source": [
    "# Read datasets"
   ]
  },
  {
   "cell_type": "code",
   "execution_count": 2,
   "metadata": {},
   "outputs": [],
   "source": [
    "globalDf = pd.read_csv(\"data/Global_Policy_Uncertainty_Data-Since1997.csv\", encoding=\"latin-1\")\n",
    "btcDf = pd.read_csv(\"data/BTC-Monthly-Since2014.csv\")"
   ]
  },
  {
   "cell_type": "markdown",
   "metadata": {},
   "source": [
    "## Wrangle Global EPU dataset"
   ]
  },
  {
   "cell_type": "code",
   "execution_count": 3,
   "metadata": {},
   "outputs": [
    {
     "data": {
      "text/html": [
       "<div>\n",
       "<style scoped>\n",
       "    .dataframe tbody tr th:only-of-type {\n",
       "        vertical-align: middle;\n",
       "    }\n",
       "\n",
       "    .dataframe tbody tr th {\n",
       "        vertical-align: top;\n",
       "    }\n",
       "\n",
       "    .dataframe thead th {\n",
       "        text-align: right;\n",
       "    }\n",
       "</style>\n",
       "<table border=\"1\" class=\"dataframe\">\n",
       "  <thead>\n",
       "    <tr style=\"text-align: right;\">\n",
       "      <th></th>\n",
       "      <th>Year</th>\n",
       "      <th>Month</th>\n",
       "      <th>GEPU_current</th>\n",
       "      <th>GEPU_ppp</th>\n",
       "    </tr>\n",
       "  </thead>\n",
       "  <tbody>\n",
       "    <tr>\n",
       "      <th>0</th>\n",
       "      <td>1997</td>\n",
       "      <td>1.0</td>\n",
       "      <td>74.250916</td>\n",
       "      <td>76.827372</td>\n",
       "    </tr>\n",
       "    <tr>\n",
       "      <th>1</th>\n",
       "      <td>1997</td>\n",
       "      <td>2.0</td>\n",
       "      <td>77.455858</td>\n",
       "      <td>79.145625</td>\n",
       "    </tr>\n",
       "    <tr>\n",
       "      <th>2</th>\n",
       "      <td>1997</td>\n",
       "      <td>3.0</td>\n",
       "      <td>66.761655</td>\n",
       "      <td>64.889262</td>\n",
       "    </tr>\n",
       "    <tr>\n",
       "      <th>3</th>\n",
       "      <td>1997</td>\n",
       "      <td>4.0</td>\n",
       "      <td>71.868261</td>\n",
       "      <td>73.164048</td>\n",
       "    </tr>\n",
       "    <tr>\n",
       "      <th>4</th>\n",
       "      <td>1997</td>\n",
       "      <td>5.0</td>\n",
       "      <td>69.901362</td>\n",
       "      <td>70.204210</td>\n",
       "    </tr>\n",
       "  </tbody>\n",
       "</table>\n",
       "</div>"
      ],
      "text/plain": [
       "   Year  Month  GEPU_current   GEPU_ppp\n",
       "0  1997    1.0     74.250916  76.827372\n",
       "1  1997    2.0     77.455858  79.145625\n",
       "2  1997    3.0     66.761655  64.889262\n",
       "3  1997    4.0     71.868261  73.164048\n",
       "4  1997    5.0     69.901362  70.204210"
      ]
     },
     "execution_count": 3,
     "metadata": {},
     "output_type": "execute_result"
    }
   ],
   "source": [
    "globalDf.head()"
   ]
  },
  {
   "cell_type": "code",
   "execution_count": 4,
   "metadata": {},
   "outputs": [
    {
     "data": {
      "text/plain": [
       "Year             object\n",
       "Month           float64\n",
       "GEPU_current    float64\n",
       "GEPU_ppp        float64\n",
       "dtype: object"
      ]
     },
     "execution_count": 4,
     "metadata": {},
     "output_type": "execute_result"
    }
   ],
   "source": [
    "globalDf.dtypes"
   ]
  },
  {
   "cell_type": "code",
   "execution_count": 5,
   "metadata": {},
   "outputs": [],
   "source": [
    "globalDf = globalDf.dropna()"
   ]
  },
  {
   "cell_type": "code",
   "execution_count": 6,
   "metadata": {},
   "outputs": [
    {
     "data": {
      "text/html": [
       "<div>\n",
       "<style scoped>\n",
       "    .dataframe tbody tr th:only-of-type {\n",
       "        vertical-align: middle;\n",
       "    }\n",
       "\n",
       "    .dataframe tbody tr th {\n",
       "        vertical-align: top;\n",
       "    }\n",
       "\n",
       "    .dataframe thead th {\n",
       "        text-align: right;\n",
       "    }\n",
       "</style>\n",
       "<table border=\"1\" class=\"dataframe\">\n",
       "  <thead>\n",
       "    <tr style=\"text-align: right;\">\n",
       "      <th></th>\n",
       "      <th>Year</th>\n",
       "      <th>Month</th>\n",
       "      <th>GEPU_current</th>\n",
       "      <th>GEPU_ppp</th>\n",
       "    </tr>\n",
       "  </thead>\n",
       "  <tbody>\n",
       "    <tr>\n",
       "      <th>280</th>\n",
       "      <td>2020</td>\n",
       "      <td>5.0</td>\n",
       "      <td>412.826586</td>\n",
       "      <td>423.968339</td>\n",
       "    </tr>\n",
       "    <tr>\n",
       "      <th>281</th>\n",
       "      <td>2020</td>\n",
       "      <td>6.0</td>\n",
       "      <td>313.741755</td>\n",
       "      <td>333.653920</td>\n",
       "    </tr>\n",
       "    <tr>\n",
       "      <th>282</th>\n",
       "      <td>2020</td>\n",
       "      <td>7.0</td>\n",
       "      <td>337.384424</td>\n",
       "      <td>340.895162</td>\n",
       "    </tr>\n",
       "    <tr>\n",
       "      <th>283</th>\n",
       "      <td>2020</td>\n",
       "      <td>8.0</td>\n",
       "      <td>285.883907</td>\n",
       "      <td>306.856490</td>\n",
       "    </tr>\n",
       "    <tr>\n",
       "      <th>284</th>\n",
       "      <td>2020</td>\n",
       "      <td>9.0</td>\n",
       "      <td>286.915497</td>\n",
       "      <td>298.280919</td>\n",
       "    </tr>\n",
       "  </tbody>\n",
       "</table>\n",
       "</div>"
      ],
      "text/plain": [
       "     Year  Month  GEPU_current    GEPU_ppp\n",
       "280  2020    5.0    412.826586  423.968339\n",
       "281  2020    6.0    313.741755  333.653920\n",
       "282  2020    7.0    337.384424  340.895162\n",
       "283  2020    8.0    285.883907  306.856490\n",
       "284  2020    9.0    286.915497  298.280919"
      ]
     },
     "execution_count": 6,
     "metadata": {},
     "output_type": "execute_result"
    }
   ],
   "source": [
    "globalDf.tail()"
   ]
  },
  {
   "cell_type": "code",
   "execution_count": 7,
   "metadata": {},
   "outputs": [],
   "source": [
    "globalDf['Year'] = globalDf['Year'].astype('int')"
   ]
  },
  {
   "cell_type": "code",
   "execution_count": 8,
   "metadata": {},
   "outputs": [],
   "source": [
    "globalDf.drop(globalDf[globalDf['Year'] < 2014].index, inplace=True)"
   ]
  },
  {
   "cell_type": "code",
   "execution_count": 9,
   "metadata": {},
   "outputs": [],
   "source": [
    "globalDf['Year'] = globalDf['Year'].astype('int')"
   ]
  },
  {
   "cell_type": "code",
   "execution_count": 10,
   "metadata": {},
   "outputs": [],
   "source": [
    "globalDf['Month'] = globalDf['Month'].astype('int')"
   ]
  },
  {
   "cell_type": "code",
   "execution_count": 11,
   "metadata": {},
   "outputs": [
    {
     "data": {
      "text/html": [
       "<div>\n",
       "<style scoped>\n",
       "    .dataframe tbody tr th:only-of-type {\n",
       "        vertical-align: middle;\n",
       "    }\n",
       "\n",
       "    .dataframe tbody tr th {\n",
       "        vertical-align: top;\n",
       "    }\n",
       "\n",
       "    .dataframe thead th {\n",
       "        text-align: right;\n",
       "    }\n",
       "</style>\n",
       "<table border=\"1\" class=\"dataframe\">\n",
       "  <thead>\n",
       "    <tr style=\"text-align: right;\">\n",
       "      <th></th>\n",
       "      <th>Year</th>\n",
       "      <th>Month</th>\n",
       "      <th>GEPU_current</th>\n",
       "      <th>GEPU_ppp</th>\n",
       "    </tr>\n",
       "  </thead>\n",
       "  <tbody>\n",
       "    <tr>\n",
       "      <th>204</th>\n",
       "      <td>2014</td>\n",
       "      <td>1</td>\n",
       "      <td>107.324807</td>\n",
       "      <td>108.767217</td>\n",
       "    </tr>\n",
       "    <tr>\n",
       "      <th>205</th>\n",
       "      <td>2014</td>\n",
       "      <td>2</td>\n",
       "      <td>94.643427</td>\n",
       "      <td>92.150604</td>\n",
       "    </tr>\n",
       "    <tr>\n",
       "      <th>206</th>\n",
       "      <td>2014</td>\n",
       "      <td>3</td>\n",
       "      <td>109.436900</td>\n",
       "      <td>107.244238</td>\n",
       "    </tr>\n",
       "    <tr>\n",
       "      <th>207</th>\n",
       "      <td>2014</td>\n",
       "      <td>4</td>\n",
       "      <td>97.775491</td>\n",
       "      <td>101.434120</td>\n",
       "    </tr>\n",
       "    <tr>\n",
       "      <th>208</th>\n",
       "      <td>2014</td>\n",
       "      <td>5</td>\n",
       "      <td>100.257487</td>\n",
       "      <td>102.025873</td>\n",
       "    </tr>\n",
       "  </tbody>\n",
       "</table>\n",
       "</div>"
      ],
      "text/plain": [
       "     Year  Month  GEPU_current    GEPU_ppp\n",
       "204  2014      1    107.324807  108.767217\n",
       "205  2014      2     94.643427   92.150604\n",
       "206  2014      3    109.436900  107.244238\n",
       "207  2014      4     97.775491  101.434120\n",
       "208  2014      5    100.257487  102.025873"
      ]
     },
     "execution_count": 11,
     "metadata": {},
     "output_type": "execute_result"
    }
   ],
   "source": [
    "globalDf.head()"
   ]
  },
  {
   "cell_type": "code",
   "execution_count": 12,
   "metadata": {},
   "outputs": [
    {
     "data": {
      "text/plain": [
       "81"
      ]
     },
     "execution_count": 12,
     "metadata": {},
     "output_type": "execute_result"
    }
   ],
   "source": [
    "len(globalDf)"
   ]
  },
  {
   "cell_type": "markdown",
   "metadata": {},
   "source": [
    "## Wrangle BTC dataset"
   ]
  },
  {
   "cell_type": "code",
   "execution_count": 13,
   "metadata": {},
   "outputs": [
    {
     "data": {
      "text/html": [
       "<div>\n",
       "<style scoped>\n",
       "    .dataframe tbody tr th:only-of-type {\n",
       "        vertical-align: middle;\n",
       "    }\n",
       "\n",
       "    .dataframe tbody tr th {\n",
       "        vertical-align: top;\n",
       "    }\n",
       "\n",
       "    .dataframe thead th {\n",
       "        text-align: right;\n",
       "    }\n",
       "</style>\n",
       "<table border=\"1\" class=\"dataframe\">\n",
       "  <thead>\n",
       "    <tr style=\"text-align: right;\">\n",
       "      <th></th>\n",
       "      <th>Date (based on 1st of Month)</th>\n",
       "      <th>Open</th>\n",
       "      <th>High</th>\n",
       "      <th>Low</th>\n",
       "      <th>Close</th>\n",
       "      <th>Volume</th>\n",
       "    </tr>\n",
       "  </thead>\n",
       "  <tbody>\n",
       "    <tr>\n",
       "      <th>0</th>\n",
       "      <td>Sep-2014</td>\n",
       "      <td>465.864014</td>\n",
       "      <td>468.174011</td>\n",
       "      <td>372.239990</td>\n",
       "      <td>386.944000</td>\n",
       "      <td>4.108810e+08</td>\n",
       "    </tr>\n",
       "    <tr>\n",
       "      <th>1</th>\n",
       "      <td>Oct-2014</td>\n",
       "      <td>387.427002</td>\n",
       "      <td>411.697998</td>\n",
       "      <td>289.295990</td>\n",
       "      <td>338.321014</td>\n",
       "      <td>9.029944e+08</td>\n",
       "    </tr>\n",
       "    <tr>\n",
       "      <th>2</th>\n",
       "      <td>Nov-2014</td>\n",
       "      <td>338.649994</td>\n",
       "      <td>457.092987</td>\n",
       "      <td>320.626007</td>\n",
       "      <td>378.046997</td>\n",
       "      <td>6.597334e+08</td>\n",
       "    </tr>\n",
       "    <tr>\n",
       "      <th>3</th>\n",
       "      <td>Dec-2014</td>\n",
       "      <td>378.248993</td>\n",
       "      <td>384.037994</td>\n",
       "      <td>304.231995</td>\n",
       "      <td>320.192993</td>\n",
       "      <td>5.531023e+08</td>\n",
       "    </tr>\n",
       "    <tr>\n",
       "      <th>4</th>\n",
       "      <td>Jan-2015</td>\n",
       "      <td>320.434998</td>\n",
       "      <td>320.434998</td>\n",
       "      <td>171.509995</td>\n",
       "      <td>217.464005</td>\n",
       "      <td>1.098812e+09</td>\n",
       "    </tr>\n",
       "  </tbody>\n",
       "</table>\n",
       "</div>"
      ],
      "text/plain": [
       "  Date (based on 1st of Month)        Open        High         Low  \\\n",
       "0                     Sep-2014  465.864014  468.174011  372.239990   \n",
       "1                     Oct-2014  387.427002  411.697998  289.295990   \n",
       "2                     Nov-2014  338.649994  457.092987  320.626007   \n",
       "3                     Dec-2014  378.248993  384.037994  304.231995   \n",
       "4                     Jan-2015  320.434998  320.434998  171.509995   \n",
       "\n",
       "        Close        Volume  \n",
       "0  386.944000  4.108810e+08  \n",
       "1  338.321014  9.029944e+08  \n",
       "2  378.046997  6.597334e+08  \n",
       "3  320.192993  5.531023e+08  \n",
       "4  217.464005  1.098812e+09  "
      ]
     },
     "execution_count": 13,
     "metadata": {},
     "output_type": "execute_result"
    }
   ],
   "source": [
    "btcDf.head()"
   ]
  },
  {
   "cell_type": "code",
   "execution_count": 14,
   "metadata": {},
   "outputs": [
    {
     "data": {
      "text/plain": [
       "Date (based on 1st of Month)     object\n",
       "Open                            float64\n",
       "High                            float64\n",
       "Low                             float64\n",
       "Close                           float64\n",
       "Volume                          float64\n",
       "dtype: object"
      ]
     },
     "execution_count": 14,
     "metadata": {},
     "output_type": "execute_result"
    }
   ],
   "source": [
    "btcDf.dtypes"
   ]
  },
  {
   "cell_type": "code",
   "execution_count": 15,
   "metadata": {},
   "outputs": [
    {
     "data": {
      "text/html": [
       "<div>\n",
       "<style scoped>\n",
       "    .dataframe tbody tr th:only-of-type {\n",
       "        vertical-align: middle;\n",
       "    }\n",
       "\n",
       "    .dataframe tbody tr th {\n",
       "        vertical-align: top;\n",
       "    }\n",
       "\n",
       "    .dataframe thead th {\n",
       "        text-align: right;\n",
       "    }\n",
       "</style>\n",
       "<table border=\"1\" class=\"dataframe\">\n",
       "  <thead>\n",
       "    <tr style=\"text-align: right;\">\n",
       "      <th></th>\n",
       "      <th>Date (based on 1st of Month)</th>\n",
       "      <th>Open</th>\n",
       "      <th>High</th>\n",
       "      <th>Low</th>\n",
       "      <th>Close</th>\n",
       "      <th>Volume</th>\n",
       "      <th>Year</th>\n",
       "      <th>Month</th>\n",
       "    </tr>\n",
       "  </thead>\n",
       "  <tbody>\n",
       "    <tr>\n",
       "      <th>0</th>\n",
       "      <td>Sep-2014</td>\n",
       "      <td>465.864014</td>\n",
       "      <td>468.174011</td>\n",
       "      <td>372.239990</td>\n",
       "      <td>386.944000</td>\n",
       "      <td>4.108810e+08</td>\n",
       "      <td>2014</td>\n",
       "      <td>9</td>\n",
       "    </tr>\n",
       "    <tr>\n",
       "      <th>1</th>\n",
       "      <td>Oct-2014</td>\n",
       "      <td>387.427002</td>\n",
       "      <td>411.697998</td>\n",
       "      <td>289.295990</td>\n",
       "      <td>338.321014</td>\n",
       "      <td>9.029944e+08</td>\n",
       "      <td>2014</td>\n",
       "      <td>10</td>\n",
       "    </tr>\n",
       "    <tr>\n",
       "      <th>2</th>\n",
       "      <td>Nov-2014</td>\n",
       "      <td>338.649994</td>\n",
       "      <td>457.092987</td>\n",
       "      <td>320.626007</td>\n",
       "      <td>378.046997</td>\n",
       "      <td>6.597334e+08</td>\n",
       "      <td>2014</td>\n",
       "      <td>11</td>\n",
       "    </tr>\n",
       "    <tr>\n",
       "      <th>3</th>\n",
       "      <td>Dec-2014</td>\n",
       "      <td>378.248993</td>\n",
       "      <td>384.037994</td>\n",
       "      <td>304.231995</td>\n",
       "      <td>320.192993</td>\n",
       "      <td>5.531023e+08</td>\n",
       "      <td>2014</td>\n",
       "      <td>12</td>\n",
       "    </tr>\n",
       "    <tr>\n",
       "      <th>4</th>\n",
       "      <td>Jan-2015</td>\n",
       "      <td>320.434998</td>\n",
       "      <td>320.434998</td>\n",
       "      <td>171.509995</td>\n",
       "      <td>217.464005</td>\n",
       "      <td>1.098812e+09</td>\n",
       "      <td>2015</td>\n",
       "      <td>1</td>\n",
       "    </tr>\n",
       "  </tbody>\n",
       "</table>\n",
       "</div>"
      ],
      "text/plain": [
       "  Date (based on 1st of Month)        Open        High         Low  \\\n",
       "0                     Sep-2014  465.864014  468.174011  372.239990   \n",
       "1                     Oct-2014  387.427002  411.697998  289.295990   \n",
       "2                     Nov-2014  338.649994  457.092987  320.626007   \n",
       "3                     Dec-2014  378.248993  384.037994  304.231995   \n",
       "4                     Jan-2015  320.434998  320.434998  171.509995   \n",
       "\n",
       "        Close        Volume  Year  Month  \n",
       "0  386.944000  4.108810e+08  2014      9  \n",
       "1  338.321014  9.029944e+08  2014     10  \n",
       "2  378.046997  6.597334e+08  2014     11  \n",
       "3  320.192993  5.531023e+08  2014     12  \n",
       "4  217.464005  1.098812e+09  2015      1  "
      ]
     },
     "execution_count": 15,
     "metadata": {},
     "output_type": "execute_result"
    }
   ],
   "source": [
    "btcDf['Year'] = pd.DatetimeIndex(btcDf['Date (based on 1st of Month)']).year\n",
    "btcDf['Month'] = pd.DatetimeIndex(btcDf['Date (based on 1st of Month)']).month\n",
    "btcDf.head()"
   ]
  },
  {
   "cell_type": "code",
   "execution_count": 16,
   "metadata": {},
   "outputs": [],
   "source": [
    "# Estatics only, I just wanted the year and month in front\n",
    "cols = btcDf.columns.tolist()\n",
    "cols = cols[-1:] + cols[:-1]; cols = cols[-1:] + cols[:-1]\n",
    "btcDf = btcDf[cols]\n",
    "# Delete the not needed column\n",
    "del btcDf['Date (based on 1st of Month)']"
   ]
  },
  {
   "cell_type": "code",
   "execution_count": 17,
   "metadata": {
    "scrolled": true
   },
   "outputs": [
    {
     "data": {
      "text/html": [
       "<div>\n",
       "<style scoped>\n",
       "    .dataframe tbody tr th:only-of-type {\n",
       "        vertical-align: middle;\n",
       "    }\n",
       "\n",
       "    .dataframe tbody tr th {\n",
       "        vertical-align: top;\n",
       "    }\n",
       "\n",
       "    .dataframe thead th {\n",
       "        text-align: right;\n",
       "    }\n",
       "</style>\n",
       "<table border=\"1\" class=\"dataframe\">\n",
       "  <thead>\n",
       "    <tr style=\"text-align: right;\">\n",
       "      <th></th>\n",
       "      <th>Year</th>\n",
       "      <th>Month</th>\n",
       "      <th>Open</th>\n",
       "      <th>High</th>\n",
       "      <th>Low</th>\n",
       "      <th>Close</th>\n",
       "      <th>Volume</th>\n",
       "    </tr>\n",
       "  </thead>\n",
       "  <tbody>\n",
       "    <tr>\n",
       "      <th>0</th>\n",
       "      <td>2014</td>\n",
       "      <td>9</td>\n",
       "      <td>465.864014</td>\n",
       "      <td>468.174011</td>\n",
       "      <td>372.239990</td>\n",
       "      <td>386.944000</td>\n",
       "      <td>4.108810e+08</td>\n",
       "    </tr>\n",
       "    <tr>\n",
       "      <th>1</th>\n",
       "      <td>2014</td>\n",
       "      <td>10</td>\n",
       "      <td>387.427002</td>\n",
       "      <td>411.697998</td>\n",
       "      <td>289.295990</td>\n",
       "      <td>338.321014</td>\n",
       "      <td>9.029944e+08</td>\n",
       "    </tr>\n",
       "    <tr>\n",
       "      <th>2</th>\n",
       "      <td>2014</td>\n",
       "      <td>11</td>\n",
       "      <td>338.649994</td>\n",
       "      <td>457.092987</td>\n",
       "      <td>320.626007</td>\n",
       "      <td>378.046997</td>\n",
       "      <td>6.597334e+08</td>\n",
       "    </tr>\n",
       "    <tr>\n",
       "      <th>3</th>\n",
       "      <td>2014</td>\n",
       "      <td>12</td>\n",
       "      <td>378.248993</td>\n",
       "      <td>384.037994</td>\n",
       "      <td>304.231995</td>\n",
       "      <td>320.192993</td>\n",
       "      <td>5.531023e+08</td>\n",
       "    </tr>\n",
       "    <tr>\n",
       "      <th>4</th>\n",
       "      <td>2015</td>\n",
       "      <td>1</td>\n",
       "      <td>320.434998</td>\n",
       "      <td>320.434998</td>\n",
       "      <td>171.509995</td>\n",
       "      <td>217.464005</td>\n",
       "      <td>1.098812e+09</td>\n",
       "    </tr>\n",
       "  </tbody>\n",
       "</table>\n",
       "</div>"
      ],
      "text/plain": [
       "   Year  Month        Open        High         Low       Close        Volume\n",
       "0  2014      9  465.864014  468.174011  372.239990  386.944000  4.108810e+08\n",
       "1  2014     10  387.427002  411.697998  289.295990  338.321014  9.029944e+08\n",
       "2  2014     11  338.649994  457.092987  320.626007  378.046997  6.597334e+08\n",
       "3  2014     12  378.248993  384.037994  304.231995  320.192993  5.531023e+08\n",
       "4  2015      1  320.434998  320.434998  171.509995  217.464005  1.098812e+09"
      ]
     },
     "execution_count": 17,
     "metadata": {},
     "output_type": "execute_result"
    }
   ],
   "source": [
    "btcDf.reset_index()\n",
    "btcDf.head()"
   ]
  },
  {
   "cell_type": "code",
   "execution_count": 18,
   "metadata": {},
   "outputs": [
    {
     "data": {
      "text/html": [
       "<div>\n",
       "<style scoped>\n",
       "    .dataframe tbody tr th:only-of-type {\n",
       "        vertical-align: middle;\n",
       "    }\n",
       "\n",
       "    .dataframe tbody tr th {\n",
       "        vertical-align: top;\n",
       "    }\n",
       "\n",
       "    .dataframe thead th {\n",
       "        text-align: right;\n",
       "    }\n",
       "</style>\n",
       "<table border=\"1\" class=\"dataframe\">\n",
       "  <thead>\n",
       "    <tr style=\"text-align: right;\">\n",
       "      <th></th>\n",
       "      <th>Year</th>\n",
       "      <th>Month</th>\n",
       "      <th>Open</th>\n",
       "      <th>High</th>\n",
       "      <th>Low</th>\n",
       "      <th>Close</th>\n",
       "      <th>Volume</th>\n",
       "    </tr>\n",
       "  </thead>\n",
       "  <tbody>\n",
       "    <tr>\n",
       "      <th>67</th>\n",
       "      <td>2020</td>\n",
       "      <td>4</td>\n",
       "      <td>6437.319336</td>\n",
       "      <td>9440.650391</td>\n",
       "      <td>6202.373535</td>\n",
       "      <td>8658.553711</td>\n",
       "      <td>1.156130e+12</td>\n",
       "    </tr>\n",
       "    <tr>\n",
       "      <th>68</th>\n",
       "      <td>2020</td>\n",
       "      <td>5</td>\n",
       "      <td>8672.782227</td>\n",
       "      <td>9996.743164</td>\n",
       "      <td>8374.323242</td>\n",
       "      <td>9461.058594</td>\n",
       "      <td>1.286370e+12</td>\n",
       "    </tr>\n",
       "    <tr>\n",
       "      <th>69</th>\n",
       "      <td>2020</td>\n",
       "      <td>6</td>\n",
       "      <td>9463.605469</td>\n",
       "      <td>10199.565430</td>\n",
       "      <td>8975.525391</td>\n",
       "      <td>9137.993164</td>\n",
       "      <td>6.509130e+11</td>\n",
       "    </tr>\n",
       "    <tr>\n",
       "      <th>70</th>\n",
       "      <td>2020</td>\n",
       "      <td>7</td>\n",
       "      <td>9145.985352</td>\n",
       "      <td>11415.864260</td>\n",
       "      <td>8977.015625</td>\n",
       "      <td>11323.466800</td>\n",
       "      <td>5.458130e+11</td>\n",
       "    </tr>\n",
       "    <tr>\n",
       "      <th>71</th>\n",
       "      <td>2020</td>\n",
       "      <td>8</td>\n",
       "      <td>11322.570310</td>\n",
       "      <td>12034.144530</td>\n",
       "      <td>11012.415040</td>\n",
       "      <td>11675.739260</td>\n",
       "      <td>1.797630e+11</td>\n",
       "    </tr>\n",
       "  </tbody>\n",
       "</table>\n",
       "</div>"
      ],
      "text/plain": [
       "    Year  Month          Open          High           Low         Close  \\\n",
       "67  2020      4   6437.319336   9440.650391   6202.373535   8658.553711   \n",
       "68  2020      5   8672.782227   9996.743164   8374.323242   9461.058594   \n",
       "69  2020      6   9463.605469  10199.565430   8975.525391   9137.993164   \n",
       "70  2020      7   9145.985352  11415.864260   8977.015625  11323.466800   \n",
       "71  2020      8  11322.570310  12034.144530  11012.415040  11675.739260   \n",
       "\n",
       "          Volume  \n",
       "67  1.156130e+12  \n",
       "68  1.286370e+12  \n",
       "69  6.509130e+11  \n",
       "70  5.458130e+11  \n",
       "71  1.797630e+11  "
      ]
     },
     "execution_count": 18,
     "metadata": {},
     "output_type": "execute_result"
    }
   ],
   "source": [
    "btcDf.tail()"
   ]
  },
  {
   "cell_type": "code",
   "execution_count": 19,
   "metadata": {},
   "outputs": [
    {
     "data": {
      "text/plain": [
       "72"
      ]
     },
     "execution_count": 19,
     "metadata": {},
     "output_type": "execute_result"
    }
   ],
   "source": [
    "len(btcDf)"
   ]
  },
  {
   "cell_type": "markdown",
   "metadata": {},
   "source": [
    "## Merge Data"
   ]
  },
  {
   "cell_type": "markdown",
   "metadata": {},
   "source": [
    "As the BTC dataset only starts from September 2014 and the China and US dataset is only up to July 2020, we will need to filter them before combining all of them together in one dataframe.\n"
   ]
  },
  {
   "cell_type": "code",
   "execution_count": 20,
   "metadata": {},
   "outputs": [],
   "source": [
    "globalDf = globalDf[ ~((globalDf['Year'] == 2020) & (globalDf['Month'] > 7)) ]\n",
    "globalDf = globalDf[ ~((globalDf['Year'] == 2014) & (globalDf['Month'] < 9)) ]"
   ]
  },
  {
   "cell_type": "code",
   "execution_count": 21,
   "metadata": {},
   "outputs": [],
   "source": [
    "btcDf = btcDf[ ~((btcDf['Year'] == 2020) & (btcDf['Month'] > 7)) ]"
   ]
  },
  {
   "cell_type": "code",
   "execution_count": 22,
   "metadata": {},
   "outputs": [
    {
     "name": "stdout",
     "output_type": "stream",
     "text": [
      "Data frames ready to merge\n"
     ]
    }
   ],
   "source": [
    "if (len(btcDf) == len(globalDf)):\n",
    "    print(\"Data frames ready to merge\")"
   ]
  },
  {
   "cell_type": "code",
   "execution_count": 23,
   "metadata": {},
   "outputs": [],
   "source": [
    "allDf = btcDf.merge(globalDf)"
   ]
  },
  {
   "cell_type": "code",
   "execution_count": 24,
   "metadata": {},
   "outputs": [
    {
     "data": {
      "text/html": [
       "<div>\n",
       "<style scoped>\n",
       "    .dataframe tbody tr th:only-of-type {\n",
       "        vertical-align: middle;\n",
       "    }\n",
       "\n",
       "    .dataframe tbody tr th {\n",
       "        vertical-align: top;\n",
       "    }\n",
       "\n",
       "    .dataframe thead th {\n",
       "        text-align: right;\n",
       "    }\n",
       "</style>\n",
       "<table border=\"1\" class=\"dataframe\">\n",
       "  <thead>\n",
       "    <tr style=\"text-align: right;\">\n",
       "      <th></th>\n",
       "      <th>Year</th>\n",
       "      <th>Month</th>\n",
       "      <th>Open</th>\n",
       "      <th>High</th>\n",
       "      <th>Low</th>\n",
       "      <th>Close</th>\n",
       "      <th>Volume</th>\n",
       "      <th>GEPU_current</th>\n",
       "      <th>GEPU_ppp</th>\n",
       "    </tr>\n",
       "  </thead>\n",
       "  <tbody>\n",
       "    <tr>\n",
       "      <th>0</th>\n",
       "      <td>2014</td>\n",
       "      <td>9</td>\n",
       "      <td>465.864014</td>\n",
       "      <td>468.174011</td>\n",
       "      <td>372.239990</td>\n",
       "      <td>386.944000</td>\n",
       "      <td>4.108810e+08</td>\n",
       "      <td>119.004523</td>\n",
       "      <td>123.848461</td>\n",
       "    </tr>\n",
       "    <tr>\n",
       "      <th>1</th>\n",
       "      <td>2014</td>\n",
       "      <td>10</td>\n",
       "      <td>387.427002</td>\n",
       "      <td>411.697998</td>\n",
       "      <td>289.295990</td>\n",
       "      <td>338.321014</td>\n",
       "      <td>9.029944e+08</td>\n",
       "      <td>115.001499</td>\n",
       "      <td>117.841802</td>\n",
       "    </tr>\n",
       "    <tr>\n",
       "      <th>2</th>\n",
       "      <td>2014</td>\n",
       "      <td>11</td>\n",
       "      <td>338.649994</td>\n",
       "      <td>457.092987</td>\n",
       "      <td>320.626007</td>\n",
       "      <td>378.046997</td>\n",
       "      <td>6.597334e+08</td>\n",
       "      <td>109.575411</td>\n",
       "      <td>115.329683</td>\n",
       "    </tr>\n",
       "    <tr>\n",
       "      <th>3</th>\n",
       "      <td>2014</td>\n",
       "      <td>12</td>\n",
       "      <td>378.248993</td>\n",
       "      <td>384.037994</td>\n",
       "      <td>304.231995</td>\n",
       "      <td>320.192993</td>\n",
       "      <td>5.531023e+08</td>\n",
       "      <td>107.930762</td>\n",
       "      <td>109.408125</td>\n",
       "    </tr>\n",
       "    <tr>\n",
       "      <th>4</th>\n",
       "      <td>2015</td>\n",
       "      <td>1</td>\n",
       "      <td>320.434998</td>\n",
       "      <td>320.434998</td>\n",
       "      <td>171.509995</td>\n",
       "      <td>217.464005</td>\n",
       "      <td>1.098812e+09</td>\n",
       "      <td>131.733360</td>\n",
       "      <td>138.663842</td>\n",
       "    </tr>\n",
       "  </tbody>\n",
       "</table>\n",
       "</div>"
      ],
      "text/plain": [
       "   Year  Month        Open        High         Low       Close        Volume  \\\n",
       "0  2014      9  465.864014  468.174011  372.239990  386.944000  4.108810e+08   \n",
       "1  2014     10  387.427002  411.697998  289.295990  338.321014  9.029944e+08   \n",
       "2  2014     11  338.649994  457.092987  320.626007  378.046997  6.597334e+08   \n",
       "3  2014     12  378.248993  384.037994  304.231995  320.192993  5.531023e+08   \n",
       "4  2015      1  320.434998  320.434998  171.509995  217.464005  1.098812e+09   \n",
       "\n",
       "   GEPU_current    GEPU_ppp  \n",
       "0    119.004523  123.848461  \n",
       "1    115.001499  117.841802  \n",
       "2    109.575411  115.329683  \n",
       "3    107.930762  109.408125  \n",
       "4    131.733360  138.663842  "
      ]
     },
     "execution_count": 24,
     "metadata": {},
     "output_type": "execute_result"
    }
   ],
   "source": [
    "allDf.head()"
   ]
  },
  {
   "cell_type": "code",
   "execution_count": 25,
   "metadata": {},
   "outputs": [],
   "source": [
    "# Let's save this for a bit\n",
    "allDf.to_csv('data/allData.csv')"
   ]
  },
  {
   "cell_type": "markdown",
   "metadata": {},
   "source": [
    "The dataset has no NaN values, if there are, best practise is to pad it"
   ]
  },
  {
   "cell_type": "markdown",
   "metadata": {},
   "source": [
    "We use only the BTC closing price."
   ]
  },
  {
   "cell_type": "code",
   "execution_count": 26,
   "metadata": {},
   "outputs": [
    {
     "data": {
      "text/html": [
       "<div>\n",
       "<style scoped>\n",
       "    .dataframe tbody tr th:only-of-type {\n",
       "        vertical-align: middle;\n",
       "    }\n",
       "\n",
       "    .dataframe tbody tr th {\n",
       "        vertical-align: top;\n",
       "    }\n",
       "\n",
       "    .dataframe thead th {\n",
       "        text-align: right;\n",
       "    }\n",
       "</style>\n",
       "<table border=\"1\" class=\"dataframe\">\n",
       "  <thead>\n",
       "    <tr style=\"text-align: right;\">\n",
       "      <th></th>\n",
       "      <th>BTC</th>\n",
       "      <th>GlobalEPU</th>\n",
       "    </tr>\n",
       "  </thead>\n",
       "  <tbody>\n",
       "    <tr>\n",
       "      <th>0</th>\n",
       "      <td>386.944000</td>\n",
       "      <td>119.004523</td>\n",
       "    </tr>\n",
       "    <tr>\n",
       "      <th>1</th>\n",
       "      <td>338.321014</td>\n",
       "      <td>115.001499</td>\n",
       "    </tr>\n",
       "    <tr>\n",
       "      <th>2</th>\n",
       "      <td>378.046997</td>\n",
       "      <td>109.575411</td>\n",
       "    </tr>\n",
       "    <tr>\n",
       "      <th>3</th>\n",
       "      <td>320.192993</td>\n",
       "      <td>107.930762</td>\n",
       "    </tr>\n",
       "    <tr>\n",
       "      <th>4</th>\n",
       "      <td>217.464005</td>\n",
       "      <td>131.733360</td>\n",
       "    </tr>\n",
       "  </tbody>\n",
       "</table>\n",
       "</div>"
      ],
      "text/plain": [
       "          BTC   GlobalEPU\n",
       "0  386.944000  119.004523\n",
       "1  338.321014  115.001499\n",
       "2  378.046997  109.575411\n",
       "3  320.192993  107.930762\n",
       "4  217.464005  131.733360"
      ]
     },
     "execution_count": 26,
     "metadata": {},
     "output_type": "execute_result"
    }
   ],
   "source": [
    "gDf = allDf.loc[:,['Close', 'GEPU_current']]\n",
    "gDf.columns = ['BTC','GlobalEPU']\n",
    "gDf.head()"
   ]
  },
  {
   "cell_type": "markdown",
   "metadata": {},
   "source": [
    "Let's visualise the data."
   ]
  },
  {
   "cell_type": "code",
   "execution_count": 27,
   "metadata": {},
   "outputs": [
    {
     "data": {
      "image/png": "[encoded data removed]",
      "text/plain": [
       "<Figure size 960x720 with 2 Axes>"
      ]
     },
     "metadata": {
      "needs_background": "light"
     },
     "output_type": "display_data"
    }
   ],
   "source": [
    "dataset = gDf.loc[:,['BTC','GlobalEPU']]\n",
    "fig, axes = plt.subplots(nrows=2, dpi=120, figsize=(8,6))\n",
    "for i, ax in enumerate(axes.flatten()):\n",
    "    data = dataset[dataset.columns[i]]\n",
    "    ax.plot(data, color='red', linewidth=1)\n",
    "    ax.set_title(dataset.columns[i])\n",
    "    ax.xaxis.set_ticks_position('none')\n",
    "    ax.yaxis.set_ticks_position('none')\n",
    "    ax.spines['top'].set_alpha(0)\n",
    "    ax.tick_params(labelsize=6)\n",
    "plt.tight_layout();"
   ]
  },
  {
   "cell_type": "markdown",
   "metadata": {},
   "source": [
    "# Convergent Cross Mapping"
   ]
  },
  {
   "cell_type": "markdown",
   "metadata": {},
   "source": [
    "Convergent Cross Mapping (skccm) can be used as a way to detect causality between time series."
   ]
  },
  {
   "cell_type": "code",
   "execution_count": 28,
   "metadata": {},
   "outputs": [],
   "source": [
    "import skccm as ccm\n",
    "import seaborn as sns # For some of the visualisation"
   ]
  },
  {
   "cell_type": "markdown",
   "metadata": {},
   "source": [
    "Based on the 5 steps algorithm provided by McCraken and Weigel, the first 2 steps is done using the [skccm embed function](https://skccm.readthedocs.io/en/latest/embed.html).  Note that the library does not yet implement the nearest neighbour and we can later try to optimize this by using the nearest neighbour function from sckit-learn."
   ]
  },
  {
   "cell_type": "code",
   "execution_count": 29,
   "metadata": {},
   "outputs": [],
   "source": [
    "lag = 1\n",
    "embed = 2\n",
    "e1 = ccm.Embed(gDf['BTC'])\n",
    "e2 = ccm.Embed(gDf['GlobalEPU'])\n",
    "X1 = e1.embed_vectors_1d(lag,embed)\n",
    "X2 = e2.embed_vectors_1d(lag,embed)"
   ]
  },
  {
   "cell_type": "markdown",
   "metadata": {},
   "source": [
    "Let's visualise the embedded information"
   ]
  },
  {
   "cell_type": "code",
   "execution_count": 30,
   "metadata": {},
   "outputs": [
    {
     "data": {
      "text/plain": [
       "Text(0, 0.5, 'X2(t-1)')"
      ]
     },
     "execution_count": 30,
     "metadata": {},
     "output_type": "execute_result"
    },
    {
     "data": {
      "image/png": "[encoded data removed]",
      "text/plain": [
       "<Figure size 576x432 with 2 Axes>"
      ]
     },
     "metadata": {
      "needs_background": "light"
     },
     "output_type": "display_data"
    }
   ],
   "source": [
    "fig,ax = plt.subplots(nrows=2,sharey=True,sharex=True,figsize=(8,6)) \n",
    "ax[0].scatter(X1[:,0],X1[:,1])\n",
    "ax[1].scatter(X2[:,0],X2[:,1])\n",
    "ax[0].set_xlabel('X1(t)')\n",
    "ax[0].set_ylabel('X1(t-1)')\n",
    "ax[1].set_xlabel('X2(t)')\n",
    "ax[1].set_ylabel('X2(t-1)')"
   ]
  },
  {
   "cell_type": "markdown",
   "metadata": {},
   "source": [
    "Steps 3 - 5 as stated in the McCraken and Weigel, is basically using different weights and trying to determine the accuracy by varying the library lenght (the time series window).  We forecast as a function of the library length.\n"
   ]
  },
  {
   "cell_type": "code",
   "execution_count": 31,
   "metadata": {},
   "outputs": [],
   "source": [
    "CCM = ccm.CCM()\n",
    "from skccm.utilities import train_test_split\n",
    "x1tr, x1te, x2tr, x2te = train_test_split(X1,X2, percent=.8)"
   ]
  },
  {
   "cell_type": "code",
   "execution_count": 32,
   "metadata": {},
   "outputs": [
    {
     "data": {
      "text/plain": [
       "array([10, 10, 10, 11, 11, 11, 12, 12, 12, 13, 13, 14, 14, 14, 15, 15, 15,\n",
       "       16, 16, 16, 17, 17, 18, 18, 18, 19, 19, 19, 20, 20, 21, 21, 21, 22,\n",
       "       22, 22, 23, 23, 23, 24, 24, 25, 25, 25, 26, 26, 26, 27, 27, 28])"
      ]
     },
     "execution_count": 32,
     "metadata": {},
     "output_type": "execute_result"
    }
   ],
   "source": [
    "len_tr = len(x1tr)\n",
    "lib_lens = np.linspace(10, len_tr/2, dtype='int')\n",
    "lib_lens"
   ]
  },
  {
   "cell_type": "code",
   "execution_count": 33,
   "metadata": {},
   "outputs": [],
   "source": [
    "CCM.fit(x1tr,x2tr)\n",
    "x1p, x2p = CCM.predict(x1te, x2te,lib_lengths=lib_lens)"
   ]
  },
  {
   "cell_type": "markdown",
   "metadata": {},
   "source": [
    "We find the output score of the CCM."
   ]
  },
  {
   "cell_type": "code",
   "execution_count": 34,
   "metadata": {},
   "outputs": [],
   "source": [
    "sc1,sc2 = CCM.score()"
   ]
  },
  {
   "cell_type": "markdown",
   "metadata": {},
   "source": [
    "Let's visualise it."
   ]
  },
  {
   "cell_type": "code",
   "execution_count": 35,
   "metadata": {},
   "outputs": [
    {
     "data": {
      "text/plain": [
       "Text(0, 0.5, 'Forecast Skill')"
      ]
     },
     "execution_count": 35,
     "metadata": {},
     "output_type": "execute_result"
    },
    {
     "data": {
      "image/png": "[encoded data removed]",
      "text/plain": [
       "<Figure size 576x432 with 1 Axes>"
      ]
     },
     "metadata": {
      "needs_background": "light"
     },
     "output_type": "display_data"
    }
   ],
   "source": [
    "fig,ax = plt.subplots(figsize=(8,6))\n",
    "ax.plot(lib_lens,sc1,label='X1 \"CCM cause\" X2')\n",
    "ax.plot(lib_lens,sc2, label='X2 \"CCM cause\" X1')\n",
    "ax.set_xlabel('Library Length')\n",
    "ax.set_ylabel('Forecast Skill')"
   ]
  },
  {
   "cell_type": "markdown",
   "metadata": {},
   "source": [
    "Generally, neither BTC nor economic policy uncertainty have any causation on the other."
   ]
  },
  {
   "cell_type": "markdown",
   "metadata": {},
   "source": [
    "# END"
   ]
  }
 ],
 "metadata": {
  "kernelspec": {
   "display_name": "Python 3",
   "language": "python",
   "name": "python3"
  },
  "language_info": {
   "codemirror_mode": {
    "name": "ipython",
    "version": 3
   },
   "file_extension": ".py",
   "mimetype": "text/x-python",
   "name": "python",
   "nbconvert_exporter": "python",
   "pygments_lexer": "ipython3",
   "version": "3.7.3"
  }
 },
 "nbformat": 4,
 "nbformat_minor": 2
}
