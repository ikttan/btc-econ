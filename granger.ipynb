{
 "cells": [
  {
   "cell_type": "markdown",
   "metadata": {},
   "source": [
    "# Causality of Economic Uncertainty on Bitcoin Prices\n",
    "_School of Information Technology & School of Business_ <br>\n",
    "_Monash University Malaysia_<br>\n",
    "(c) Copyright 2020, Ian Tan & Poon Wai Ching"
   ]
  },
  {
   "cell_type": "markdown",
   "metadata": {},
   "source": [
    "For Granger<br>\n",
    "https://towardsdatascience.com/granger-causality-and-vector-auto-regressive-model-for-time-series-forecasting-3226a64889a6"
   ]
  },
  {
   "cell_type": "markdown",
   "metadata": {},
   "source": [
    "Steps\n",
    "\n",
    "- Read dataset (BTC, China Economic, US Economic)\n",
    "- Have new dataset Global EPU, Singapore EPU, UK EPU and US EPU (https://www.policyuncertainty.com/index.html)\n",
    "- Wrangle and merge dataset\n",
    "- Conduct Granger Test (statsmodels)"
   ]
  },
  {
   "cell_type": "code",
   "execution_count": 106,
   "metadata": {},
   "outputs": [],
   "source": [
    "import numpy as np\n",
    "import pandas as pd\n",
    "#import matplotlib.pyplot as plt"
   ]
  },
  {
   "cell_type": "markdown",
   "metadata": {},
   "source": [
    "# Read datasets"
   ]
  },
  {
   "cell_type": "code",
   "execution_count": 107,
   "metadata": {},
   "outputs": [],
   "source": [
    "globalDf = pd.read_csv(\"data/Global_Policy_Uncertainty_Data-Since1997.csv\", encoding=\"latin-1\")\n",
    "btcDf = pd.read_csv(\"data/BTC-Monthly-Since2014.csv\")\n",
    "chinaDf = pd.read_csv(\"data/China-TPU-Monthly-Since2000.csv\", encoding=\"latin-1\") # due to some 0x9x characters\n",
    "usDf = pd.read_csv(\"data/US_Policy_Index-Monthly-Since1985.csv\")"
   ]
  },
  {
   "cell_type": "markdown",
   "metadata": {},
   "source": [
    "## Wrangle Global EPU dataset"
   ]
  },
  {
   "cell_type": "code",
   "execution_count": 108,
   "metadata": {},
   "outputs": [
    {
     "data": {
      "text/html": [
       "<div>\n",
       "<style scoped>\n",
       "    .dataframe tbody tr th:only-of-type {\n",
       "        vertical-align: middle;\n",
       "    }\n",
       "\n",
       "    .dataframe tbody tr th {\n",
       "        vertical-align: top;\n",
       "    }\n",
       "\n",
       "    .dataframe thead th {\n",
       "        text-align: right;\n",
       "    }\n",
       "</style>\n",
       "<table border=\"1\" class=\"dataframe\">\n",
       "  <thead>\n",
       "    <tr style=\"text-align: right;\">\n",
       "      <th></th>\n",
       "      <th>Year</th>\n",
       "      <th>Month</th>\n",
       "      <th>GEPU_current</th>\n",
       "      <th>GEPU_ppp</th>\n",
       "    </tr>\n",
       "  </thead>\n",
       "  <tbody>\n",
       "    <tr>\n",
       "      <th>0</th>\n",
       "      <td>1997</td>\n",
       "      <td>1.0</td>\n",
       "      <td>74.250916</td>\n",
       "      <td>76.827372</td>\n",
       "    </tr>\n",
       "    <tr>\n",
       "      <th>1</th>\n",
       "      <td>1997</td>\n",
       "      <td>2.0</td>\n",
       "      <td>77.455858</td>\n",
       "      <td>79.145625</td>\n",
       "    </tr>\n",
       "    <tr>\n",
       "      <th>2</th>\n",
       "      <td>1997</td>\n",
       "      <td>3.0</td>\n",
       "      <td>66.761655</td>\n",
       "      <td>64.889262</td>\n",
       "    </tr>\n",
       "    <tr>\n",
       "      <th>3</th>\n",
       "      <td>1997</td>\n",
       "      <td>4.0</td>\n",
       "      <td>71.868261</td>\n",
       "      <td>73.164048</td>\n",
       "    </tr>\n",
       "    <tr>\n",
       "      <th>4</th>\n",
       "      <td>1997</td>\n",
       "      <td>5.0</td>\n",
       "      <td>69.901362</td>\n",
       "      <td>70.204210</td>\n",
       "    </tr>\n",
       "  </tbody>\n",
       "</table>\n",
       "</div>"
      ],
      "text/plain": [
       "   Year  Month  GEPU_current   GEPU_ppp\n",
       "0  1997    1.0     74.250916  76.827372\n",
       "1  1997    2.0     77.455858  79.145625\n",
       "2  1997    3.0     66.761655  64.889262\n",
       "3  1997    4.0     71.868261  73.164048\n",
       "4  1997    5.0     69.901362  70.204210"
      ]
     },
     "execution_count": 108,
     "metadata": {},
     "output_type": "execute_result"
    }
   ],
   "source": [
    "globalDf.head()"
   ]
  },
  {
   "cell_type": "code",
   "execution_count": 109,
   "metadata": {},
   "outputs": [
    {
     "data": {
      "text/plain": [
       "Year             object\n",
       "Month           float64\n",
       "GEPU_current    float64\n",
       "GEPU_ppp        float64\n",
       "dtype: object"
      ]
     },
     "execution_count": 109,
     "metadata": {},
     "output_type": "execute_result"
    }
   ],
   "source": [
    "globalDf.dtypes"
   ]
  },
  {
   "cell_type": "code",
   "execution_count": 110,
   "metadata": {},
   "outputs": [],
   "source": [
    "globalDf = globalDf.dropna()"
   ]
  },
  {
   "cell_type": "code",
   "execution_count": 111,
   "metadata": {},
   "outputs": [
    {
     "data": {
      "text/html": [
       "<div>\n",
       "<style scoped>\n",
       "    .dataframe tbody tr th:only-of-type {\n",
       "        vertical-align: middle;\n",
       "    }\n",
       "\n",
       "    .dataframe tbody tr th {\n",
       "        vertical-align: top;\n",
       "    }\n",
       "\n",
       "    .dataframe thead th {\n",
       "        text-align: right;\n",
       "    }\n",
       "</style>\n",
       "<table border=\"1\" class=\"dataframe\">\n",
       "  <thead>\n",
       "    <tr style=\"text-align: right;\">\n",
       "      <th></th>\n",
       "      <th>Year</th>\n",
       "      <th>Month</th>\n",
       "      <th>GEPU_current</th>\n",
       "      <th>GEPU_ppp</th>\n",
       "    </tr>\n",
       "  </thead>\n",
       "  <tbody>\n",
       "    <tr>\n",
       "      <th>280</th>\n",
       "      <td>2020</td>\n",
       "      <td>5.0</td>\n",
       "      <td>412.826586</td>\n",
       "      <td>423.968339</td>\n",
       "    </tr>\n",
       "    <tr>\n",
       "      <th>281</th>\n",
       "      <td>2020</td>\n",
       "      <td>6.0</td>\n",
       "      <td>313.741755</td>\n",
       "      <td>333.653920</td>\n",
       "    </tr>\n",
       "    <tr>\n",
       "      <th>282</th>\n",
       "      <td>2020</td>\n",
       "      <td>7.0</td>\n",
       "      <td>337.384424</td>\n",
       "      <td>340.895162</td>\n",
       "    </tr>\n",
       "    <tr>\n",
       "      <th>283</th>\n",
       "      <td>2020</td>\n",
       "      <td>8.0</td>\n",
       "      <td>285.883907</td>\n",
       "      <td>306.856490</td>\n",
       "    </tr>\n",
       "    <tr>\n",
       "      <th>284</th>\n",
       "      <td>2020</td>\n",
       "      <td>9.0</td>\n",
       "      <td>286.915497</td>\n",
       "      <td>298.280919</td>\n",
       "    </tr>\n",
       "  </tbody>\n",
       "</table>\n",
       "</div>"
      ],
      "text/plain": [
       "     Year  Month  GEPU_current    GEPU_ppp\n",
       "280  2020    5.0    412.826586  423.968339\n",
       "281  2020    6.0    313.741755  333.653920\n",
       "282  2020    7.0    337.384424  340.895162\n",
       "283  2020    8.0    285.883907  306.856490\n",
       "284  2020    9.0    286.915497  298.280919"
      ]
     },
     "execution_count": 111,
     "metadata": {},
     "output_type": "execute_result"
    }
   ],
   "source": [
    "globalDf.tail()"
   ]
  },
  {
   "cell_type": "code",
   "execution_count": 112,
   "metadata": {},
   "outputs": [],
   "source": [
    "globalDf['Year'] = globalDf['Year'].astype('int')"
   ]
  },
  {
   "cell_type": "code",
   "execution_count": 113,
   "metadata": {},
   "outputs": [],
   "source": [
    "globalDf.drop(globalDf[globalDf['Year'] < 2014].index, inplace=True)"
   ]
  },
  {
   "cell_type": "code",
   "execution_count": 114,
   "metadata": {},
   "outputs": [],
   "source": [
    "globalDf['Year'] = globalDf['Year'].astype('int')"
   ]
  },
  {
   "cell_type": "code",
   "execution_count": 115,
   "metadata": {},
   "outputs": [],
   "source": [
    "globalDf['Month'] = globalDf['Month'].astype('int')"
   ]
  },
  {
   "cell_type": "code",
   "execution_count": 116,
   "metadata": {},
   "outputs": [
    {
     "data": {
      "text/html": [
       "<div>\n",
       "<style scoped>\n",
       "    .dataframe tbody tr th:only-of-type {\n",
       "        vertical-align: middle;\n",
       "    }\n",
       "\n",
       "    .dataframe tbody tr th {\n",
       "        vertical-align: top;\n",
       "    }\n",
       "\n",
       "    .dataframe thead th {\n",
       "        text-align: right;\n",
       "    }\n",
       "</style>\n",
       "<table border=\"1\" class=\"dataframe\">\n",
       "  <thead>\n",
       "    <tr style=\"text-align: right;\">\n",
       "      <th></th>\n",
       "      <th>Year</th>\n",
       "      <th>Month</th>\n",
       "      <th>GEPU_current</th>\n",
       "      <th>GEPU_ppp</th>\n",
       "    </tr>\n",
       "  </thead>\n",
       "  <tbody>\n",
       "    <tr>\n",
       "      <th>204</th>\n",
       "      <td>2014</td>\n",
       "      <td>1</td>\n",
       "      <td>107.324807</td>\n",
       "      <td>108.767217</td>\n",
       "    </tr>\n",
       "    <tr>\n",
       "      <th>205</th>\n",
       "      <td>2014</td>\n",
       "      <td>2</td>\n",
       "      <td>94.643427</td>\n",
       "      <td>92.150604</td>\n",
       "    </tr>\n",
       "    <tr>\n",
       "      <th>206</th>\n",
       "      <td>2014</td>\n",
       "      <td>3</td>\n",
       "      <td>109.436900</td>\n",
       "      <td>107.244238</td>\n",
       "    </tr>\n",
       "    <tr>\n",
       "      <th>207</th>\n",
       "      <td>2014</td>\n",
       "      <td>4</td>\n",
       "      <td>97.775491</td>\n",
       "      <td>101.434120</td>\n",
       "    </tr>\n",
       "    <tr>\n",
       "      <th>208</th>\n",
       "      <td>2014</td>\n",
       "      <td>5</td>\n",
       "      <td>100.257487</td>\n",
       "      <td>102.025873</td>\n",
       "    </tr>\n",
       "  </tbody>\n",
       "</table>\n",
       "</div>"
      ],
      "text/plain": [
       "     Year  Month  GEPU_current    GEPU_ppp\n",
       "204  2014      1    107.324807  108.767217\n",
       "205  2014      2     94.643427   92.150604\n",
       "206  2014      3    109.436900  107.244238\n",
       "207  2014      4     97.775491  101.434120\n",
       "208  2014      5    100.257487  102.025873"
      ]
     },
     "execution_count": 116,
     "metadata": {},
     "output_type": "execute_result"
    }
   ],
   "source": [
    "globalDf.head()"
   ]
  },
  {
   "cell_type": "code",
   "execution_count": 117,
   "metadata": {},
   "outputs": [
    {
     "data": {
      "text/plain": [
       "81"
      ]
     },
     "execution_count": 117,
     "metadata": {},
     "output_type": "execute_result"
    }
   ],
   "source": [
    "len(globalDf)"
   ]
  },
  {
   "cell_type": "markdown",
   "metadata": {},
   "source": [
    "## Wrangle BTC dataset"
   ]
  },
  {
   "cell_type": "code",
   "execution_count": 118,
   "metadata": {},
   "outputs": [
    {
     "data": {
      "text/html": [
       "<div>\n",
       "<style scoped>\n",
       "    .dataframe tbody tr th:only-of-type {\n",
       "        vertical-align: middle;\n",
       "    }\n",
       "\n",
       "    .dataframe tbody tr th {\n",
       "        vertical-align: top;\n",
       "    }\n",
       "\n",
       "    .dataframe thead th {\n",
       "        text-align: right;\n",
       "    }\n",
       "</style>\n",
       "<table border=\"1\" class=\"dataframe\">\n",
       "  <thead>\n",
       "    <tr style=\"text-align: right;\">\n",
       "      <th></th>\n",
       "      <th>Date (based on 1st of Month)</th>\n",
       "      <th>Open</th>\n",
       "      <th>High</th>\n",
       "      <th>Low</th>\n",
       "      <th>Close</th>\n",
       "      <th>Volume</th>\n",
       "    </tr>\n",
       "  </thead>\n",
       "  <tbody>\n",
       "    <tr>\n",
       "      <th>0</th>\n",
       "      <td>Sep-2014</td>\n",
       "      <td>465.864014</td>\n",
       "      <td>468.174011</td>\n",
       "      <td>372.239990</td>\n",
       "      <td>386.944000</td>\n",
       "      <td>4.108810e+08</td>\n",
       "    </tr>\n",
       "    <tr>\n",
       "      <th>1</th>\n",
       "      <td>Oct-2014</td>\n",
       "      <td>387.427002</td>\n",
       "      <td>411.697998</td>\n",
       "      <td>289.295990</td>\n",
       "      <td>338.321014</td>\n",
       "      <td>9.029944e+08</td>\n",
       "    </tr>\n",
       "    <tr>\n",
       "      <th>2</th>\n",
       "      <td>Nov-2014</td>\n",
       "      <td>338.649994</td>\n",
       "      <td>457.092987</td>\n",
       "      <td>320.626007</td>\n",
       "      <td>378.046997</td>\n",
       "      <td>6.597334e+08</td>\n",
       "    </tr>\n",
       "    <tr>\n",
       "      <th>3</th>\n",
       "      <td>Dec-2014</td>\n",
       "      <td>378.248993</td>\n",
       "      <td>384.037994</td>\n",
       "      <td>304.231995</td>\n",
       "      <td>320.192993</td>\n",
       "      <td>5.531023e+08</td>\n",
       "    </tr>\n",
       "    <tr>\n",
       "      <th>4</th>\n",
       "      <td>Jan-2015</td>\n",
       "      <td>320.434998</td>\n",
       "      <td>320.434998</td>\n",
       "      <td>171.509995</td>\n",
       "      <td>217.464005</td>\n",
       "      <td>1.098812e+09</td>\n",
       "    </tr>\n",
       "  </tbody>\n",
       "</table>\n",
       "</div>"
      ],
      "text/plain": [
       "  Date (based on 1st of Month)        Open        High         Low  \\\n",
       "0                     Sep-2014  465.864014  468.174011  372.239990   \n",
       "1                     Oct-2014  387.427002  411.697998  289.295990   \n",
       "2                     Nov-2014  338.649994  457.092987  320.626007   \n",
       "3                     Dec-2014  378.248993  384.037994  304.231995   \n",
       "4                     Jan-2015  320.434998  320.434998  171.509995   \n",
       "\n",
       "        Close        Volume  \n",
       "0  386.944000  4.108810e+08  \n",
       "1  338.321014  9.029944e+08  \n",
       "2  378.046997  6.597334e+08  \n",
       "3  320.192993  5.531023e+08  \n",
       "4  217.464005  1.098812e+09  "
      ]
     },
     "execution_count": 118,
     "metadata": {},
     "output_type": "execute_result"
    }
   ],
   "source": [
    "btcDf.head()"
   ]
  },
  {
   "cell_type": "code",
   "execution_count": 119,
   "metadata": {},
   "outputs": [
    {
     "data": {
      "text/plain": [
       "Date (based on 1st of Month)     object\n",
       "Open                            float64\n",
       "High                            float64\n",
       "Low                             float64\n",
       "Close                           float64\n",
       "Volume                          float64\n",
       "dtype: object"
      ]
     },
     "execution_count": 119,
     "metadata": {},
     "output_type": "execute_result"
    }
   ],
   "source": [
    "btcDf.dtypes"
   ]
  },
  {
   "cell_type": "code",
   "execution_count": 120,
   "metadata": {},
   "outputs": [
    {
     "data": {
      "text/html": [
       "<div>\n",
       "<style scoped>\n",
       "    .dataframe tbody tr th:only-of-type {\n",
       "        vertical-align: middle;\n",
       "    }\n",
       "\n",
       "    .dataframe tbody tr th {\n",
       "        vertical-align: top;\n",
       "    }\n",
       "\n",
       "    .dataframe thead th {\n",
       "        text-align: right;\n",
       "    }\n",
       "</style>\n",
       "<table border=\"1\" class=\"dataframe\">\n",
       "  <thead>\n",
       "    <tr style=\"text-align: right;\">\n",
       "      <th></th>\n",
       "      <th>Date (based on 1st of Month)</th>\n",
       "      <th>Open</th>\n",
       "      <th>High</th>\n",
       "      <th>Low</th>\n",
       "      <th>Close</th>\n",
       "      <th>Volume</th>\n",
       "      <th>Year</th>\n",
       "      <th>Month</th>\n",
       "    </tr>\n",
       "  </thead>\n",
       "  <tbody>\n",
       "    <tr>\n",
       "      <th>0</th>\n",
       "      <td>Sep-2014</td>\n",
       "      <td>465.864014</td>\n",
       "      <td>468.174011</td>\n",
       "      <td>372.239990</td>\n",
       "      <td>386.944000</td>\n",
       "      <td>4.108810e+08</td>\n",
       "      <td>2014</td>\n",
       "      <td>9</td>\n",
       "    </tr>\n",
       "    <tr>\n",
       "      <th>1</th>\n",
       "      <td>Oct-2014</td>\n",
       "      <td>387.427002</td>\n",
       "      <td>411.697998</td>\n",
       "      <td>289.295990</td>\n",
       "      <td>338.321014</td>\n",
       "      <td>9.029944e+08</td>\n",
       "      <td>2014</td>\n",
       "      <td>10</td>\n",
       "    </tr>\n",
       "    <tr>\n",
       "      <th>2</th>\n",
       "      <td>Nov-2014</td>\n",
       "      <td>338.649994</td>\n",
       "      <td>457.092987</td>\n",
       "      <td>320.626007</td>\n",
       "      <td>378.046997</td>\n",
       "      <td>6.597334e+08</td>\n",
       "      <td>2014</td>\n",
       "      <td>11</td>\n",
       "    </tr>\n",
       "    <tr>\n",
       "      <th>3</th>\n",
       "      <td>Dec-2014</td>\n",
       "      <td>378.248993</td>\n",
       "      <td>384.037994</td>\n",
       "      <td>304.231995</td>\n",
       "      <td>320.192993</td>\n",
       "      <td>5.531023e+08</td>\n",
       "      <td>2014</td>\n",
       "      <td>12</td>\n",
       "    </tr>\n",
       "    <tr>\n",
       "      <th>4</th>\n",
       "      <td>Jan-2015</td>\n",
       "      <td>320.434998</td>\n",
       "      <td>320.434998</td>\n",
       "      <td>171.509995</td>\n",
       "      <td>217.464005</td>\n",
       "      <td>1.098812e+09</td>\n",
       "      <td>2015</td>\n",
       "      <td>1</td>\n",
       "    </tr>\n",
       "  </tbody>\n",
       "</table>\n",
       "</div>"
      ],
      "text/plain": [
       "  Date (based on 1st of Month)        Open        High         Low  \\\n",
       "0                     Sep-2014  465.864014  468.174011  372.239990   \n",
       "1                     Oct-2014  387.427002  411.697998  289.295990   \n",
       "2                     Nov-2014  338.649994  457.092987  320.626007   \n",
       "3                     Dec-2014  378.248993  384.037994  304.231995   \n",
       "4                     Jan-2015  320.434998  320.434998  171.509995   \n",
       "\n",
       "        Close        Volume  Year  Month  \n",
       "0  386.944000  4.108810e+08  2014      9  \n",
       "1  338.321014  9.029944e+08  2014     10  \n",
       "2  378.046997  6.597334e+08  2014     11  \n",
       "3  320.192993  5.531023e+08  2014     12  \n",
       "4  217.464005  1.098812e+09  2015      1  "
      ]
     },
     "execution_count": 120,
     "metadata": {},
     "output_type": "execute_result"
    }
   ],
   "source": [
    "btcDf['Year'] = pd.DatetimeIndex(btcDf['Date (based on 1st of Month)']).year\n",
    "btcDf['Month'] = pd.DatetimeIndex(btcDf['Date (based on 1st of Month)']).month\n",
    "btcDf.head()"
   ]
  },
  {
   "cell_type": "code",
   "execution_count": 121,
   "metadata": {},
   "outputs": [],
   "source": [
    "# Estatics only, I just wanted the year and month in front\n",
    "cols = btcDf.columns.tolist()\n",
    "cols = cols[-1:] + cols[:-1]; cols = cols[-1:] + cols[:-1]\n",
    "btcDf = btcDf[cols]\n",
    "# Delete the not needed column\n",
    "del btcDf['Date (based on 1st of Month)']"
   ]
  },
  {
   "cell_type": "code",
   "execution_count": 122,
   "metadata": {
    "scrolled": true
   },
   "outputs": [
    {
     "data": {
      "text/html": [
       "<div>\n",
       "<style scoped>\n",
       "    .dataframe tbody tr th:only-of-type {\n",
       "        vertical-align: middle;\n",
       "    }\n",
       "\n",
       "    .dataframe tbody tr th {\n",
       "        vertical-align: top;\n",
       "    }\n",
       "\n",
       "    .dataframe thead th {\n",
       "        text-align: right;\n",
       "    }\n",
       "</style>\n",
       "<table border=\"1\" class=\"dataframe\">\n",
       "  <thead>\n",
       "    <tr style=\"text-align: right;\">\n",
       "      <th></th>\n",
       "      <th>Year</th>\n",
       "      <th>Month</th>\n",
       "      <th>Open</th>\n",
       "      <th>High</th>\n",
       "      <th>Low</th>\n",
       "      <th>Close</th>\n",
       "      <th>Volume</th>\n",
       "    </tr>\n",
       "  </thead>\n",
       "  <tbody>\n",
       "    <tr>\n",
       "      <th>0</th>\n",
       "      <td>2014</td>\n",
       "      <td>9</td>\n",
       "      <td>465.864014</td>\n",
       "      <td>468.174011</td>\n",
       "      <td>372.239990</td>\n",
       "      <td>386.944000</td>\n",
       "      <td>4.108810e+08</td>\n",
       "    </tr>\n",
       "    <tr>\n",
       "      <th>1</th>\n",
       "      <td>2014</td>\n",
       "      <td>10</td>\n",
       "      <td>387.427002</td>\n",
       "      <td>411.697998</td>\n",
       "      <td>289.295990</td>\n",
       "      <td>338.321014</td>\n",
       "      <td>9.029944e+08</td>\n",
       "    </tr>\n",
       "    <tr>\n",
       "      <th>2</th>\n",
       "      <td>2014</td>\n",
       "      <td>11</td>\n",
       "      <td>338.649994</td>\n",
       "      <td>457.092987</td>\n",
       "      <td>320.626007</td>\n",
       "      <td>378.046997</td>\n",
       "      <td>6.597334e+08</td>\n",
       "    </tr>\n",
       "    <tr>\n",
       "      <th>3</th>\n",
       "      <td>2014</td>\n",
       "      <td>12</td>\n",
       "      <td>378.248993</td>\n",
       "      <td>384.037994</td>\n",
       "      <td>304.231995</td>\n",
       "      <td>320.192993</td>\n",
       "      <td>5.531023e+08</td>\n",
       "    </tr>\n",
       "    <tr>\n",
       "      <th>4</th>\n",
       "      <td>2015</td>\n",
       "      <td>1</td>\n",
       "      <td>320.434998</td>\n",
       "      <td>320.434998</td>\n",
       "      <td>171.509995</td>\n",
       "      <td>217.464005</td>\n",
       "      <td>1.098812e+09</td>\n",
       "    </tr>\n",
       "  </tbody>\n",
       "</table>\n",
       "</div>"
      ],
      "text/plain": [
       "   Year  Month        Open        High         Low       Close        Volume\n",
       "0  2014      9  465.864014  468.174011  372.239990  386.944000  4.108810e+08\n",
       "1  2014     10  387.427002  411.697998  289.295990  338.321014  9.029944e+08\n",
       "2  2014     11  338.649994  457.092987  320.626007  378.046997  6.597334e+08\n",
       "3  2014     12  378.248993  384.037994  304.231995  320.192993  5.531023e+08\n",
       "4  2015      1  320.434998  320.434998  171.509995  217.464005  1.098812e+09"
      ]
     },
     "execution_count": 122,
     "metadata": {},
     "output_type": "execute_result"
    }
   ],
   "source": [
    "btcDf.reset_index()\n",
    "btcDf.head()"
   ]
  },
  {
   "cell_type": "code",
   "execution_count": 123,
   "metadata": {},
   "outputs": [
    {
     "data": {
      "text/html": [
       "<div>\n",
       "<style scoped>\n",
       "    .dataframe tbody tr th:only-of-type {\n",
       "        vertical-align: middle;\n",
       "    }\n",
       "\n",
       "    .dataframe tbody tr th {\n",
       "        vertical-align: top;\n",
       "    }\n",
       "\n",
       "    .dataframe thead th {\n",
       "        text-align: right;\n",
       "    }\n",
       "</style>\n",
       "<table border=\"1\" class=\"dataframe\">\n",
       "  <thead>\n",
       "    <tr style=\"text-align: right;\">\n",
       "      <th></th>\n",
       "      <th>Year</th>\n",
       "      <th>Month</th>\n",
       "      <th>Open</th>\n",
       "      <th>High</th>\n",
       "      <th>Low</th>\n",
       "      <th>Close</th>\n",
       "      <th>Volume</th>\n",
       "    </tr>\n",
       "  </thead>\n",
       "  <tbody>\n",
       "    <tr>\n",
       "      <th>67</th>\n",
       "      <td>2020</td>\n",
       "      <td>4</td>\n",
       "      <td>6437.319336</td>\n",
       "      <td>9440.650391</td>\n",
       "      <td>6202.373535</td>\n",
       "      <td>8658.553711</td>\n",
       "      <td>1.156130e+12</td>\n",
       "    </tr>\n",
       "    <tr>\n",
       "      <th>68</th>\n",
       "      <td>2020</td>\n",
       "      <td>5</td>\n",
       "      <td>8672.782227</td>\n",
       "      <td>9996.743164</td>\n",
       "      <td>8374.323242</td>\n",
       "      <td>9461.058594</td>\n",
       "      <td>1.286370e+12</td>\n",
       "    </tr>\n",
       "    <tr>\n",
       "      <th>69</th>\n",
       "      <td>2020</td>\n",
       "      <td>6</td>\n",
       "      <td>9463.605469</td>\n",
       "      <td>10199.565430</td>\n",
       "      <td>8975.525391</td>\n",
       "      <td>9137.993164</td>\n",
       "      <td>6.509130e+11</td>\n",
       "    </tr>\n",
       "    <tr>\n",
       "      <th>70</th>\n",
       "      <td>2020</td>\n",
       "      <td>7</td>\n",
       "      <td>9145.985352</td>\n",
       "      <td>11415.864260</td>\n",
       "      <td>8977.015625</td>\n",
       "      <td>11323.466800</td>\n",
       "      <td>5.458130e+11</td>\n",
       "    </tr>\n",
       "    <tr>\n",
       "      <th>71</th>\n",
       "      <td>2020</td>\n",
       "      <td>8</td>\n",
       "      <td>11322.570310</td>\n",
       "      <td>12034.144530</td>\n",
       "      <td>11012.415040</td>\n",
       "      <td>11675.739260</td>\n",
       "      <td>1.797630e+11</td>\n",
       "    </tr>\n",
       "  </tbody>\n",
       "</table>\n",
       "</div>"
      ],
      "text/plain": [
       "    Year  Month          Open          High           Low         Close  \\\n",
       "67  2020      4   6437.319336   9440.650391   6202.373535   8658.553711   \n",
       "68  2020      5   8672.782227   9996.743164   8374.323242   9461.058594   \n",
       "69  2020      6   9463.605469  10199.565430   8975.525391   9137.993164   \n",
       "70  2020      7   9145.985352  11415.864260   8977.015625  11323.466800   \n",
       "71  2020      8  11322.570310  12034.144530  11012.415040  11675.739260   \n",
       "\n",
       "          Volume  \n",
       "67  1.156130e+12  \n",
       "68  1.286370e+12  \n",
       "69  6.509130e+11  \n",
       "70  5.458130e+11  \n",
       "71  1.797630e+11  "
      ]
     },
     "execution_count": 123,
     "metadata": {},
     "output_type": "execute_result"
    }
   ],
   "source": [
    "btcDf.tail()"
   ]
  },
  {
   "cell_type": "code",
   "execution_count": 124,
   "metadata": {},
   "outputs": [
    {
     "data": {
      "text/plain": [
       "72"
      ]
     },
     "execution_count": 124,
     "metadata": {},
     "output_type": "execute_result"
    }
   ],
   "source": [
    "len(btcDf)"
   ]
  },
  {
   "cell_type": "markdown",
   "metadata": {},
   "source": [
    "## Wrangle China dataset"
   ]
  },
  {
   "cell_type": "code",
   "execution_count": 125,
   "metadata": {},
   "outputs": [
    {
     "data": {
      "text/html": [
       "<div>\n",
       "<style scoped>\n",
       "    .dataframe tbody tr th:only-of-type {\n",
       "        vertical-align: middle;\n",
       "    }\n",
       "\n",
       "    .dataframe tbody tr th {\n",
       "        vertical-align: top;\n",
       "    }\n",
       "\n",
       "    .dataframe thead th {\n",
       "        text-align: right;\n",
       "    }\n",
       "</style>\n",
       "<table border=\"1\" class=\"dataframe\">\n",
       "  <thead>\n",
       "    <tr style=\"text-align: right;\">\n",
       "      <th></th>\n",
       "      <th>year</th>\n",
       "      <th>month</th>\n",
       "      <th>TPU</th>\n",
       "      <th>Unnamed: 3</th>\n",
       "      <th>Unnamed: 4</th>\n",
       "      <th>Source: ''Economic Policy Uncertainty in China Since 1949: The View from Mainland Newspapers, by Steven J. Davis, Dingqian Liu and Xuguang S. Sheng, 2019.</th>\n",
       "    </tr>\n",
       "  </thead>\n",
       "  <tbody>\n",
       "    <tr>\n",
       "      <th>0</th>\n",
       "      <td>2000</td>\n",
       "      <td>1</td>\n",
       "      <td>38.2</td>\n",
       "      <td>NaN</td>\n",
       "      <td>NaN</td>\n",
       "      <td>These data can be used freely with attribution...</td>\n",
       "    </tr>\n",
       "    <tr>\n",
       "      <th>1</th>\n",
       "      <td>2000</td>\n",
       "      <td>2</td>\n",
       "      <td>14.7</td>\n",
       "      <td>NaN</td>\n",
       "      <td>NaN</td>\n",
       "      <td>NaN</td>\n",
       "    </tr>\n",
       "    <tr>\n",
       "      <th>2</th>\n",
       "      <td>2000</td>\n",
       "      <td>3</td>\n",
       "      <td>8.9</td>\n",
       "      <td>NaN</td>\n",
       "      <td>NaN</td>\n",
       "      <td>NaN</td>\n",
       "    </tr>\n",
       "    <tr>\n",
       "      <th>3</th>\n",
       "      <td>2000</td>\n",
       "      <td>4</td>\n",
       "      <td>8.9</td>\n",
       "      <td>NaN</td>\n",
       "      <td>NaN</td>\n",
       "      <td>NaN</td>\n",
       "    </tr>\n",
       "    <tr>\n",
       "      <th>4</th>\n",
       "      <td>2000</td>\n",
       "      <td>5</td>\n",
       "      <td>0.0</td>\n",
       "      <td>NaN</td>\n",
       "      <td>NaN</td>\n",
       "      <td>NaN</td>\n",
       "    </tr>\n",
       "  </tbody>\n",
       "</table>\n",
       "</div>"
      ],
      "text/plain": [
       "   year  month   TPU  Unnamed: 3  Unnamed: 4  \\\n",
       "0  2000      1  38.2         NaN         NaN   \n",
       "1  2000      2  14.7         NaN         NaN   \n",
       "2  2000      3   8.9         NaN         NaN   \n",
       "3  2000      4   8.9         NaN         NaN   \n",
       "4  2000      5   0.0         NaN         NaN   \n",
       "\n",
       "  Source: ''Economic Policy Uncertainty in China Since 1949: The View from Mainland Newspapers, by Steven J. Davis, Dingqian Liu and Xuguang S. Sheng, 2019.   \n",
       "0  These data can be used freely with attribution...                                                                                                            \n",
       "1                                                NaN                                                                                                            \n",
       "2                                                NaN                                                                                                            \n",
       "3                                                NaN                                                                                                            \n",
       "4                                                NaN                                                                                                            "
      ]
     },
     "execution_count": 125,
     "metadata": {},
     "output_type": "execute_result"
    }
   ],
   "source": [
    "chinaDf.head()"
   ]
  },
  {
   "cell_type": "code",
   "execution_count": 126,
   "metadata": {},
   "outputs": [],
   "source": [
    "# Reformat by dropping last 3 columns (or rather, just take the first 3 columns)\n",
    "chinaDf = chinaDf.loc[:,['year','month','TPU']]"
   ]
  },
  {
   "cell_type": "code",
   "execution_count": 127,
   "metadata": {},
   "outputs": [],
   "source": [
    "chinaDf.columns = ['Year','Month','TPU']"
   ]
  },
  {
   "cell_type": "code",
   "execution_count": 128,
   "metadata": {},
   "outputs": [],
   "source": [
    "chinaDf.drop(chinaDf[chinaDf['Year'] < 2014].index, inplace=True)"
   ]
  },
  {
   "cell_type": "code",
   "execution_count": 129,
   "metadata": {},
   "outputs": [
    {
     "data": {
      "text/html": [
       "<div>\n",
       "<style scoped>\n",
       "    .dataframe tbody tr th:only-of-type {\n",
       "        vertical-align: middle;\n",
       "    }\n",
       "\n",
       "    .dataframe tbody tr th {\n",
       "        vertical-align: top;\n",
       "    }\n",
       "\n",
       "    .dataframe thead th {\n",
       "        text-align: right;\n",
       "    }\n",
       "</style>\n",
       "<table border=\"1\" class=\"dataframe\">\n",
       "  <thead>\n",
       "    <tr style=\"text-align: right;\">\n",
       "      <th></th>\n",
       "      <th>Year</th>\n",
       "      <th>Month</th>\n",
       "      <th>TPU</th>\n",
       "    </tr>\n",
       "  </thead>\n",
       "  <tbody>\n",
       "    <tr>\n",
       "      <th>0</th>\n",
       "      <td>2014</td>\n",
       "      <td>1</td>\n",
       "      <td>39.0</td>\n",
       "    </tr>\n",
       "    <tr>\n",
       "      <th>1</th>\n",
       "      <td>2014</td>\n",
       "      <td>2</td>\n",
       "      <td>24.0</td>\n",
       "    </tr>\n",
       "    <tr>\n",
       "      <th>2</th>\n",
       "      <td>2014</td>\n",
       "      <td>3</td>\n",
       "      <td>99.9</td>\n",
       "    </tr>\n",
       "    <tr>\n",
       "      <th>3</th>\n",
       "      <td>2014</td>\n",
       "      <td>4</td>\n",
       "      <td>67.9</td>\n",
       "    </tr>\n",
       "    <tr>\n",
       "      <th>4</th>\n",
       "      <td>2014</td>\n",
       "      <td>5</td>\n",
       "      <td>15.7</td>\n",
       "    </tr>\n",
       "  </tbody>\n",
       "</table>\n",
       "</div>"
      ],
      "text/plain": [
       "   Year  Month   TPU\n",
       "0  2014      1  39.0\n",
       "1  2014      2  24.0\n",
       "2  2014      3  99.9\n",
       "3  2014      4  67.9\n",
       "4  2014      5  15.7"
      ]
     },
     "execution_count": 129,
     "metadata": {},
     "output_type": "execute_result"
    }
   ],
   "source": [
    "chinaDf.reset_index(drop = True, inplace = True)\n",
    "chinaDf.head()"
   ]
  },
  {
   "cell_type": "code",
   "execution_count": 130,
   "metadata": {},
   "outputs": [
    {
     "data": {
      "text/plain": [
       "79"
      ]
     },
     "execution_count": 130,
     "metadata": {},
     "output_type": "execute_result"
    }
   ],
   "source": [
    "len(chinaDf)"
   ]
  },
  {
   "cell_type": "code",
   "execution_count": 131,
   "metadata": {},
   "outputs": [
    {
     "data": {
      "text/html": [
       "<div>\n",
       "<style scoped>\n",
       "    .dataframe tbody tr th:only-of-type {\n",
       "        vertical-align: middle;\n",
       "    }\n",
       "\n",
       "    .dataframe tbody tr th {\n",
       "        vertical-align: top;\n",
       "    }\n",
       "\n",
       "    .dataframe thead th {\n",
       "        text-align: right;\n",
       "    }\n",
       "</style>\n",
       "<table border=\"1\" class=\"dataframe\">\n",
       "  <thead>\n",
       "    <tr style=\"text-align: right;\">\n",
       "      <th></th>\n",
       "      <th>Year</th>\n",
       "      <th>Month</th>\n",
       "      <th>TPU</th>\n",
       "    </tr>\n",
       "  </thead>\n",
       "  <tbody>\n",
       "    <tr>\n",
       "      <th>74</th>\n",
       "      <td>2020</td>\n",
       "      <td>3</td>\n",
       "      <td>105.9</td>\n",
       "    </tr>\n",
       "    <tr>\n",
       "      <th>75</th>\n",
       "      <td>2020</td>\n",
       "      <td>4</td>\n",
       "      <td>193.1</td>\n",
       "    </tr>\n",
       "    <tr>\n",
       "      <th>76</th>\n",
       "      <td>2020</td>\n",
       "      <td>5</td>\n",
       "      <td>547.3</td>\n",
       "    </tr>\n",
       "    <tr>\n",
       "      <th>77</th>\n",
       "      <td>2020</td>\n",
       "      <td>6</td>\n",
       "      <td>473.9</td>\n",
       "    </tr>\n",
       "    <tr>\n",
       "      <th>78</th>\n",
       "      <td>2020</td>\n",
       "      <td>7</td>\n",
       "      <td>340.8</td>\n",
       "    </tr>\n",
       "  </tbody>\n",
       "</table>\n",
       "</div>"
      ],
      "text/plain": [
       "    Year  Month    TPU\n",
       "74  2020      3  105.9\n",
       "75  2020      4  193.1\n",
       "76  2020      5  547.3\n",
       "77  2020      6  473.9\n",
       "78  2020      7  340.8"
      ]
     },
     "execution_count": 131,
     "metadata": {},
     "output_type": "execute_result"
    }
   ],
   "source": [
    "chinaDf.tail()"
   ]
  },
  {
   "cell_type": "markdown",
   "metadata": {},
   "source": [
    "## Wrangle US dataset"
   ]
  },
  {
   "cell_type": "code",
   "execution_count": 132,
   "metadata": {},
   "outputs": [
    {
     "data": {
      "text/html": [
       "<div>\n",
       "<style scoped>\n",
       "    .dataframe tbody tr th:only-of-type {\n",
       "        vertical-align: middle;\n",
       "    }\n",
       "\n",
       "    .dataframe tbody tr th {\n",
       "        vertical-align: top;\n",
       "    }\n",
       "\n",
       "    .dataframe thead th {\n",
       "        text-align: right;\n",
       "    }\n",
       "</style>\n",
       "<table border=\"1\" class=\"dataframe\">\n",
       "  <thead>\n",
       "    <tr style=\"text-align: right;\">\n",
       "      <th></th>\n",
       "      <th>Year</th>\n",
       "      <th>Month</th>\n",
       "      <th>News_Based_Policy_Uncert_Index</th>\n",
       "      <th>FedStateLocal_Ex_disagreement</th>\n",
       "      <th>CPI_disagreement</th>\n",
       "      <th>Tax_expiration</th>\n",
       "    </tr>\n",
       "  </thead>\n",
       "  <tbody>\n",
       "    <tr>\n",
       "      <th>0</th>\n",
       "      <td>1985</td>\n",
       "      <td>1.0</td>\n",
       "      <td>103.748802</td>\n",
       "      <td>94.195557</td>\n",
       "      <td>204.033661</td>\n",
       "      <td>13.494806</td>\n",
       "    </tr>\n",
       "    <tr>\n",
       "      <th>1</th>\n",
       "      <td>1985</td>\n",
       "      <td>2.0</td>\n",
       "      <td>78.313202</td>\n",
       "      <td>131.445221</td>\n",
       "      <td>136.022430</td>\n",
       "      <td>13.494806</td>\n",
       "    </tr>\n",
       "    <tr>\n",
       "      <th>2</th>\n",
       "      <td>1985</td>\n",
       "      <td>3.0</td>\n",
       "      <td>100.761482</td>\n",
       "      <td>131.683533</td>\n",
       "      <td>136.022430</td>\n",
       "      <td>13.494806</td>\n",
       "    </tr>\n",
       "    <tr>\n",
       "      <th>3</th>\n",
       "      <td>1985</td>\n",
       "      <td>4.0</td>\n",
       "      <td>84.778870</td>\n",
       "      <td>131.495529</td>\n",
       "      <td>136.022430</td>\n",
       "      <td>13.494806</td>\n",
       "    </tr>\n",
       "    <tr>\n",
       "      <th>4</th>\n",
       "      <td>1985</td>\n",
       "      <td>5.0</td>\n",
       "      <td>98.053658</td>\n",
       "      <td>139.016907</td>\n",
       "      <td>170.028061</td>\n",
       "      <td>13.494806</td>\n",
       "    </tr>\n",
       "  </tbody>\n",
       "</table>\n",
       "</div>"
      ],
      "text/plain": [
       "   Year  Month  News_Based_Policy_Uncert_Index  FedStateLocal_Ex_disagreement  \\\n",
       "0  1985    1.0                      103.748802                      94.195557   \n",
       "1  1985    2.0                       78.313202                     131.445221   \n",
       "2  1985    3.0                      100.761482                     131.683533   \n",
       "3  1985    4.0                       84.778870                     131.495529   \n",
       "4  1985    5.0                       98.053658                     139.016907   \n",
       "\n",
       "   CPI_disagreement  Tax_expiration  \n",
       "0        204.033661       13.494806  \n",
       "1        136.022430       13.494806  \n",
       "2        136.022430       13.494806  \n",
       "3        136.022430       13.494806  \n",
       "4        170.028061       13.494806  "
      ]
     },
     "execution_count": 132,
     "metadata": {},
     "output_type": "execute_result"
    }
   ],
   "source": [
    "usDf.head()"
   ]
  },
  {
   "cell_type": "code",
   "execution_count": 133,
   "metadata": {},
   "outputs": [
    {
     "data": {
      "text/plain": [
       "Year                               object\n",
       "Month                             float64\n",
       "News_Based_Policy_Uncert_Index    float64\n",
       "FedStateLocal_Ex_disagreement     float64\n",
       "CPI_disagreement                  float64\n",
       "Tax_expiration                    float64\n",
       "dtype: object"
      ]
     },
     "execution_count": 133,
     "metadata": {},
     "output_type": "execute_result"
    }
   ],
   "source": [
    "usDf.dtypes"
   ]
  },
  {
   "cell_type": "code",
   "execution_count": 134,
   "metadata": {},
   "outputs": [],
   "source": [
    "usDf['Year'] = pd.to_numeric(usDf['Year'], errors='coerce')"
   ]
  },
  {
   "cell_type": "code",
   "execution_count": 135,
   "metadata": {},
   "outputs": [],
   "source": [
    "usDf.drop(usDf[usDf['Year'] < 2014].index, inplace=True)"
   ]
  },
  {
   "cell_type": "code",
   "execution_count": 136,
   "metadata": {},
   "outputs": [],
   "source": [
    "usDf = usDf.dropna()"
   ]
  },
  {
   "cell_type": "code",
   "execution_count": 137,
   "metadata": {},
   "outputs": [],
   "source": [
    "usDf['Year'] = usDf['Year'].astype('int'); usDf['Month'] = usDf['Month'].astype('int')"
   ]
  },
  {
   "cell_type": "code",
   "execution_count": 138,
   "metadata": {},
   "outputs": [
    {
     "data": {
      "text/plain": [
       "Year                                int32\n",
       "Month                               int32\n",
       "News_Based_Policy_Uncert_Index    float64\n",
       "FedStateLocal_Ex_disagreement     float64\n",
       "CPI_disagreement                  float64\n",
       "Tax_expiration                    float64\n",
       "dtype: object"
      ]
     },
     "execution_count": 138,
     "metadata": {},
     "output_type": "execute_result"
    }
   ],
   "source": [
    "usDf.dtypes"
   ]
  },
  {
   "cell_type": "code",
   "execution_count": 139,
   "metadata": {},
   "outputs": [
    {
     "data": {
      "text/html": [
       "<div>\n",
       "<style scoped>\n",
       "    .dataframe tbody tr th:only-of-type {\n",
       "        vertical-align: middle;\n",
       "    }\n",
       "\n",
       "    .dataframe tbody tr th {\n",
       "        vertical-align: top;\n",
       "    }\n",
       "\n",
       "    .dataframe thead th {\n",
       "        text-align: right;\n",
       "    }\n",
       "</style>\n",
       "<table border=\"1\" class=\"dataframe\">\n",
       "  <thead>\n",
       "    <tr style=\"text-align: right;\">\n",
       "      <th></th>\n",
       "      <th>Year</th>\n",
       "      <th>Month</th>\n",
       "      <th>News_Based_Policy_Uncert_Index</th>\n",
       "      <th>FedStateLocal_Ex_disagreement</th>\n",
       "      <th>CPI_disagreement</th>\n",
       "      <th>Tax_expiration</th>\n",
       "    </tr>\n",
       "  </thead>\n",
       "  <tbody>\n",
       "    <tr>\n",
       "      <th>0</th>\n",
       "      <td>2014</td>\n",
       "      <td>1</td>\n",
       "      <td>107.705139</td>\n",
       "      <td>83.794785</td>\n",
       "      <td>71.942268</td>\n",
       "      <td>18.917648</td>\n",
       "    </tr>\n",
       "    <tr>\n",
       "      <th>1</th>\n",
       "      <td>2014</td>\n",
       "      <td>2</td>\n",
       "      <td>93.369286</td>\n",
       "      <td>87.217278</td>\n",
       "      <td>85.585320</td>\n",
       "      <td>18.917648</td>\n",
       "    </tr>\n",
       "    <tr>\n",
       "      <th>2</th>\n",
       "      <td>2014</td>\n",
       "      <td>3</td>\n",
       "      <td>101.018730</td>\n",
       "      <td>87.261520</td>\n",
       "      <td>85.585320</td>\n",
       "      <td>18.917648</td>\n",
       "    </tr>\n",
       "    <tr>\n",
       "      <th>3</th>\n",
       "      <td>2014</td>\n",
       "      <td>4</td>\n",
       "      <td>96.993431</td>\n",
       "      <td>87.300034</td>\n",
       "      <td>85.585320</td>\n",
       "      <td>18.917648</td>\n",
       "    </tr>\n",
       "    <tr>\n",
       "      <th>4</th>\n",
       "      <td>2014</td>\n",
       "      <td>5</td>\n",
       "      <td>102.015045</td>\n",
       "      <td>91.901459</td>\n",
       "      <td>68.011215</td>\n",
       "      <td>18.917648</td>\n",
       "    </tr>\n",
       "  </tbody>\n",
       "</table>\n",
       "</div>"
      ],
      "text/plain": [
       "   Year  Month  News_Based_Policy_Uncert_Index  FedStateLocal_Ex_disagreement  \\\n",
       "0  2014      1                      107.705139                      83.794785   \n",
       "1  2014      2                       93.369286                      87.217278   \n",
       "2  2014      3                      101.018730                      87.261520   \n",
       "3  2014      4                       96.993431                      87.300034   \n",
       "4  2014      5                      102.015045                      91.901459   \n",
       "\n",
       "   CPI_disagreement  Tax_expiration  \n",
       "0         71.942268       18.917648  \n",
       "1         85.585320       18.917648  \n",
       "2         85.585320       18.917648  \n",
       "3         85.585320       18.917648  \n",
       "4         68.011215       18.917648  "
      ]
     },
     "execution_count": 139,
     "metadata": {},
     "output_type": "execute_result"
    }
   ],
   "source": [
    "usDf.reset_index(drop = True, inplace = True)\n",
    "usDf.head()"
   ]
  },
  {
   "cell_type": "code",
   "execution_count": 140,
   "metadata": {},
   "outputs": [
    {
     "data": {
      "text/plain": [
       "79"
      ]
     },
     "execution_count": 140,
     "metadata": {},
     "output_type": "execute_result"
    }
   ],
   "source": [
    "len(usDf)"
   ]
  },
  {
   "cell_type": "code",
   "execution_count": 141,
   "metadata": {
    "scrolled": true
   },
   "outputs": [
    {
     "data": {
      "text/html": [
       "<div>\n",
       "<style scoped>\n",
       "    .dataframe tbody tr th:only-of-type {\n",
       "        vertical-align: middle;\n",
       "    }\n",
       "\n",
       "    .dataframe tbody tr th {\n",
       "        vertical-align: top;\n",
       "    }\n",
       "\n",
       "    .dataframe thead th {\n",
       "        text-align: right;\n",
       "    }\n",
       "</style>\n",
       "<table border=\"1\" class=\"dataframe\">\n",
       "  <thead>\n",
       "    <tr style=\"text-align: right;\">\n",
       "      <th></th>\n",
       "      <th>Year</th>\n",
       "      <th>Month</th>\n",
       "      <th>News_Based_Policy_Uncert_Index</th>\n",
       "      <th>FedStateLocal_Ex_disagreement</th>\n",
       "      <th>CPI_disagreement</th>\n",
       "      <th>Tax_expiration</th>\n",
       "    </tr>\n",
       "  </thead>\n",
       "  <tbody>\n",
       "    <tr>\n",
       "      <th>74</th>\n",
       "      <td>2020</td>\n",
       "      <td>3</td>\n",
       "      <td>425.779205</td>\n",
       "      <td>69.506531</td>\n",
       "      <td>72.472755</td>\n",
       "      <td>282.284149</td>\n",
       "    </tr>\n",
       "    <tr>\n",
       "      <th>75</th>\n",
       "      <td>2020</td>\n",
       "      <td>4</td>\n",
       "      <td>400.944733</td>\n",
       "      <td>69.506531</td>\n",
       "      <td>72.472755</td>\n",
       "      <td>282.284149</td>\n",
       "    </tr>\n",
       "    <tr>\n",
       "      <th>76</th>\n",
       "      <td>2020</td>\n",
       "      <td>5</td>\n",
       "      <td>503.963348</td>\n",
       "      <td>171.697784</td>\n",
       "      <td>98.969925</td>\n",
       "      <td>282.284149</td>\n",
       "    </tr>\n",
       "    <tr>\n",
       "      <th>77</th>\n",
       "      <td>2020</td>\n",
       "      <td>6</td>\n",
       "      <td>300.400940</td>\n",
       "      <td>171.697784</td>\n",
       "      <td>98.969925</td>\n",
       "      <td>282.284149</td>\n",
       "    </tr>\n",
       "    <tr>\n",
       "      <th>78</th>\n",
       "      <td>2020</td>\n",
       "      <td>7</td>\n",
       "      <td>409.611176</td>\n",
       "      <td>171.697784</td>\n",
       "      <td>98.969925</td>\n",
       "      <td>282.284149</td>\n",
       "    </tr>\n",
       "  </tbody>\n",
       "</table>\n",
       "</div>"
      ],
      "text/plain": [
       "    Year  Month  News_Based_Policy_Uncert_Index  \\\n",
       "74  2020      3                      425.779205   \n",
       "75  2020      4                      400.944733   \n",
       "76  2020      5                      503.963348   \n",
       "77  2020      6                      300.400940   \n",
       "78  2020      7                      409.611176   \n",
       "\n",
       "    FedStateLocal_Ex_disagreement  CPI_disagreement  Tax_expiration  \n",
       "74                      69.506531         72.472755      282.284149  \n",
       "75                      69.506531         72.472755      282.284149  \n",
       "76                     171.697784         98.969925      282.284149  \n",
       "77                     171.697784         98.969925      282.284149  \n",
       "78                     171.697784         98.969925      282.284149  "
      ]
     },
     "execution_count": 141,
     "metadata": {},
     "output_type": "execute_result"
    }
   ],
   "source": [
    "usDf.tail()"
   ]
  },
  {
   "cell_type": "markdown",
   "metadata": {},
   "source": [
    "## Merge Data"
   ]
  },
  {
   "cell_type": "markdown",
   "metadata": {},
   "source": [
    "As the BTC dataset only starts from September 2014 and the China and US dataset is only up to July 2020, we will need to filter them before combining all of them together in one dataframe.\n"
   ]
  },
  {
   "cell_type": "code",
   "execution_count": 142,
   "metadata": {},
   "outputs": [],
   "source": [
    "globalDf = globalDf[ ~((globalDf['Year'] == 2020) & (globalDf['Month'] > 7)) ]\n",
    "globalDf = globalDf[ ~((globalDf['Year'] == 2014) & (globalDf['Month'] < 9)) ]"
   ]
  },
  {
   "cell_type": "code",
   "execution_count": 143,
   "metadata": {},
   "outputs": [],
   "source": [
    "btcDf = btcDf[ ~((btcDf['Year'] == 2020) & (btcDf['Month'] > 7)) ]\n",
    "chinaDf = chinaDf[ ~((chinaDf['Year'] == 2014) & (chinaDf['Month'] < 9)) ]\n",
    "usDf = usDf[ ~((usDf['Year'] == 2014) & (usDf['Month'] < 9)) ]"
   ]
  },
  {
   "cell_type": "code",
   "execution_count": 144,
   "metadata": {},
   "outputs": [
    {
     "name": "stdout",
     "output_type": "stream",
     "text": [
      "Data frames ready to merge\n"
     ]
    }
   ],
   "source": [
    "if (len(btcDf) == len(chinaDf) == len(usDf)):\n",
    "    print(\"Data frames ready to merge\")"
   ]
  },
  {
   "cell_type": "code",
   "execution_count": 145,
   "metadata": {},
   "outputs": [],
   "source": [
    "allDf = globalDf.merge(btcDf.merge(chinaDf).merge(usDf))"
   ]
  },
  {
   "cell_type": "code",
   "execution_count": 146,
   "metadata": {},
   "outputs": [
    {
     "data": {
      "text/html": [
       "<div>\n",
       "<style scoped>\n",
       "    .dataframe tbody tr th:only-of-type {\n",
       "        vertical-align: middle;\n",
       "    }\n",
       "\n",
       "    .dataframe tbody tr th {\n",
       "        vertical-align: top;\n",
       "    }\n",
       "\n",
       "    .dataframe thead th {\n",
       "        text-align: right;\n",
       "    }\n",
       "</style>\n",
       "<table border=\"1\" class=\"dataframe\">\n",
       "  <thead>\n",
       "    <tr style=\"text-align: right;\">\n",
       "      <th></th>\n",
       "      <th>Year</th>\n",
       "      <th>Month</th>\n",
       "      <th>GEPU_current</th>\n",
       "      <th>GEPU_ppp</th>\n",
       "      <th>Open</th>\n",
       "      <th>High</th>\n",
       "      <th>Low</th>\n",
       "      <th>Close</th>\n",
       "      <th>Volume</th>\n",
       "      <th>TPU</th>\n",
       "      <th>News_Based_Policy_Uncert_Index</th>\n",
       "      <th>FedStateLocal_Ex_disagreement</th>\n",
       "      <th>CPI_disagreement</th>\n",
       "      <th>Tax_expiration</th>\n",
       "    </tr>\n",
       "  </thead>\n",
       "  <tbody>\n",
       "    <tr>\n",
       "      <th>0</th>\n",
       "      <td>2014</td>\n",
       "      <td>9</td>\n",
       "      <td>119.004523</td>\n",
       "      <td>123.848461</td>\n",
       "      <td>465.864014</td>\n",
       "      <td>468.174011</td>\n",
       "      <td>372.239990</td>\n",
       "      <td>386.944000</td>\n",
       "      <td>4.108810e+08</td>\n",
       "      <td>66.0</td>\n",
       "      <td>86.216591</td>\n",
       "      <td>90.738510</td>\n",
       "      <td>81.613464</td>\n",
       "      <td>18.917648</td>\n",
       "    </tr>\n",
       "    <tr>\n",
       "      <th>1</th>\n",
       "      <td>2014</td>\n",
       "      <td>10</td>\n",
       "      <td>115.001499</td>\n",
       "      <td>117.841802</td>\n",
       "      <td>387.427002</td>\n",
       "      <td>411.697998</td>\n",
       "      <td>289.295990</td>\n",
       "      <td>338.321014</td>\n",
       "      <td>9.029944e+08</td>\n",
       "      <td>47.9</td>\n",
       "      <td>113.334579</td>\n",
       "      <td>90.757492</td>\n",
       "      <td>81.613464</td>\n",
       "      <td>18.917648</td>\n",
       "    </tr>\n",
       "    <tr>\n",
       "      <th>2</th>\n",
       "      <td>2014</td>\n",
       "      <td>11</td>\n",
       "      <td>109.575411</td>\n",
       "      <td>115.329683</td>\n",
       "      <td>338.649994</td>\n",
       "      <td>457.092987</td>\n",
       "      <td>320.626007</td>\n",
       "      <td>378.046997</td>\n",
       "      <td>6.597334e+08</td>\n",
       "      <td>108.4</td>\n",
       "      <td>93.185951</td>\n",
       "      <td>91.726883</td>\n",
       "      <td>81.613464</td>\n",
       "      <td>18.917648</td>\n",
       "    </tr>\n",
       "    <tr>\n",
       "      <th>3</th>\n",
       "      <td>2014</td>\n",
       "      <td>12</td>\n",
       "      <td>107.930762</td>\n",
       "      <td>109.408125</td>\n",
       "      <td>378.248993</td>\n",
       "      <td>384.037994</td>\n",
       "      <td>304.231995</td>\n",
       "      <td>320.192993</td>\n",
       "      <td>5.531023e+08</td>\n",
       "      <td>18.7</td>\n",
       "      <td>87.415321</td>\n",
       "      <td>91.753418</td>\n",
       "      <td>81.613464</td>\n",
       "      <td>18.917648</td>\n",
       "    </tr>\n",
       "    <tr>\n",
       "      <th>4</th>\n",
       "      <td>2015</td>\n",
       "      <td>1</td>\n",
       "      <td>131.733360</td>\n",
       "      <td>138.663842</td>\n",
       "      <td>320.434998</td>\n",
       "      <td>320.434998</td>\n",
       "      <td>171.509995</td>\n",
       "      <td>217.464005</td>\n",
       "      <td>1.098812e+09</td>\n",
       "      <td>22.8</td>\n",
       "      <td>120.544228</td>\n",
       "      <td>91.764519</td>\n",
       "      <td>81.613464</td>\n",
       "      <td>620.767761</td>\n",
       "    </tr>\n",
       "  </tbody>\n",
       "</table>\n",
       "</div>"
      ],
      "text/plain": [
       "   Year  Month  GEPU_current    GEPU_ppp        Open        High         Low  \\\n",
       "0  2014      9    119.004523  123.848461  465.864014  468.174011  372.239990   \n",
       "1  2014     10    115.001499  117.841802  387.427002  411.697998  289.295990   \n",
       "2  2014     11    109.575411  115.329683  338.649994  457.092987  320.626007   \n",
       "3  2014     12    107.930762  109.408125  378.248993  384.037994  304.231995   \n",
       "4  2015      1    131.733360  138.663842  320.434998  320.434998  171.509995   \n",
       "\n",
       "        Close        Volume    TPU  News_Based_Policy_Uncert_Index  \\\n",
       "0  386.944000  4.108810e+08   66.0                       86.216591   \n",
       "1  338.321014  9.029944e+08   47.9                      113.334579   \n",
       "2  378.046997  6.597334e+08  108.4                       93.185951   \n",
       "3  320.192993  5.531023e+08   18.7                       87.415321   \n",
       "4  217.464005  1.098812e+09   22.8                      120.544228   \n",
       "\n",
       "   FedStateLocal_Ex_disagreement  CPI_disagreement  Tax_expiration  \n",
       "0                      90.738510         81.613464       18.917648  \n",
       "1                      90.757492         81.613464       18.917648  \n",
       "2                      91.726883         81.613464       18.917648  \n",
       "3                      91.753418         81.613464       18.917648  \n",
       "4                      91.764519         81.613464      620.767761  "
      ]
     },
     "execution_count": 146,
     "metadata": {},
     "output_type": "execute_result"
    }
   ],
   "source": [
    "allDf.head()"
   ]
  },
  {
   "cell_type": "code",
   "execution_count": 147,
   "metadata": {},
   "outputs": [],
   "source": [
    "# Let's save this for a bit\n",
    "allDf.to_csv('data/allData.csv')"
   ]
  },
  {
   "cell_type": "code",
   "execution_count": 148,
   "metadata": {},
   "outputs": [],
   "source": [
    "# No NaN values, if there are, best practise is to pad it"
   ]
  },
  {
   "cell_type": "markdown",
   "metadata": {},
   "source": [
    "Just to get some intuition on the type of data we are dealing with, we do a normality test (distribution)."
   ]
  },
  {
   "cell_type": "markdown",
   "metadata": {},
   "source": [
    "<span style=\"color:red\">Do this later .. impatient now to look at Granger</span>"
   ]
  },
  {
   "cell_type": "markdown",
   "metadata": {},
   "source": [
    "We use only the BTC closing price."
   ]
  },
  {
   "cell_type": "code",
   "execution_count": 149,
   "metadata": {},
   "outputs": [
    {
     "data": {
      "text/html": [
       "<div>\n",
       "<style scoped>\n",
       "    .dataframe tbody tr th:only-of-type {\n",
       "        vertical-align: middle;\n",
       "    }\n",
       "\n",
       "    .dataframe tbody tr th {\n",
       "        vertical-align: top;\n",
       "    }\n",
       "\n",
       "    .dataframe thead th {\n",
       "        text-align: right;\n",
       "    }\n",
       "</style>\n",
       "<table border=\"1\" class=\"dataframe\">\n",
       "  <thead>\n",
       "    <tr style=\"text-align: right;\">\n",
       "      <th></th>\n",
       "      <th>GlobalEPU</th>\n",
       "      <th>BTC</th>\n",
       "      <th>TPU</th>\n",
       "      <th>News</th>\n",
       "      <th>FedState</th>\n",
       "      <th>CPI</th>\n",
       "      <th>Tax</th>\n",
       "    </tr>\n",
       "  </thead>\n",
       "  <tbody>\n",
       "    <tr>\n",
       "      <th>0</th>\n",
       "      <td>119.004523</td>\n",
       "      <td>386.944000</td>\n",
       "      <td>66.0</td>\n",
       "      <td>86.216591</td>\n",
       "      <td>90.738510</td>\n",
       "      <td>81.613464</td>\n",
       "      <td>18.917648</td>\n",
       "    </tr>\n",
       "    <tr>\n",
       "      <th>1</th>\n",
       "      <td>115.001499</td>\n",
       "      <td>338.321014</td>\n",
       "      <td>47.9</td>\n",
       "      <td>113.334579</td>\n",
       "      <td>90.757492</td>\n",
       "      <td>81.613464</td>\n",
       "      <td>18.917648</td>\n",
       "    </tr>\n",
       "    <tr>\n",
       "      <th>2</th>\n",
       "      <td>109.575411</td>\n",
       "      <td>378.046997</td>\n",
       "      <td>108.4</td>\n",
       "      <td>93.185951</td>\n",
       "      <td>91.726883</td>\n",
       "      <td>81.613464</td>\n",
       "      <td>18.917648</td>\n",
       "    </tr>\n",
       "    <tr>\n",
       "      <th>3</th>\n",
       "      <td>107.930762</td>\n",
       "      <td>320.192993</td>\n",
       "      <td>18.7</td>\n",
       "      <td>87.415321</td>\n",
       "      <td>91.753418</td>\n",
       "      <td>81.613464</td>\n",
       "      <td>18.917648</td>\n",
       "    </tr>\n",
       "    <tr>\n",
       "      <th>4</th>\n",
       "      <td>131.733360</td>\n",
       "      <td>217.464005</td>\n",
       "      <td>22.8</td>\n",
       "      <td>120.544228</td>\n",
       "      <td>91.764519</td>\n",
       "      <td>81.613464</td>\n",
       "      <td>620.767761</td>\n",
       "    </tr>\n",
       "  </tbody>\n",
       "</table>\n",
       "</div>"
      ],
      "text/plain": [
       "    GlobalEPU         BTC    TPU        News   FedState        CPI         Tax\n",
       "0  119.004523  386.944000   66.0   86.216591  90.738510  81.613464   18.917648\n",
       "1  115.001499  338.321014   47.9  113.334579  90.757492  81.613464   18.917648\n",
       "2  109.575411  378.046997  108.4   93.185951  91.726883  81.613464   18.917648\n",
       "3  107.930762  320.192993   18.7   87.415321  91.753418  81.613464   18.917648\n",
       "4  131.733360  217.464005   22.8  120.544228  91.764519  81.613464  620.767761"
      ]
     },
     "execution_count": 149,
     "metadata": {},
     "output_type": "execute_result"
    }
   ],
   "source": [
    "gDf = allDf.loc[:,['GEPU_current','Close', 'TPU', 'News_Based_Policy_Uncert_Index', 'FedStateLocal_Ex_disagreement', 'CPI_disagreement', 'Tax_expiration']]\n",
    "gDf.columns = ['GlobalEPU', 'BTC','TPU','News', 'FedState', 'CPI','Tax']\n",
    "gDf.head()"
   ]
  },
  {
   "cell_type": "code",
   "execution_count": 150,
   "metadata": {},
   "outputs": [
    {
     "name": "stdout",
     "output_type": "stream",
     "text": [
      "Statistics = 19.829, p=0.000\n",
      "Data looks non-Gaussian (reject null hypothesis)\n"
     ]
    }
   ],
   "source": [
    "from scipy import stats\n",
    "\n",
    "stat, p = stats.normaltest(gDf.BTC)\n",
    "print(\"Statistics = %.3f, p=%.3f\" % (stat,p))\n",
    "\n",
    "alpha = 0.05\n",
    "if p > alpha:\n",
    "    print('Data looks Gaussian (fail to reject null hypothesis)')\n",
    "else:\n",
    "    print('Data looks non-Gaussian (reject null hypothesis)')"
   ]
  },
  {
   "cell_type": "code",
   "execution_count": 151,
   "metadata": {},
   "outputs": [],
   "source": [
    "# Kurtosis and Skewness"
   ]
  },
  {
   "cell_type": "code",
   "execution_count": null,
   "metadata": {},
   "outputs": [],
   "source": []
  },
  {
   "cell_type": "markdown",
   "metadata": {},
   "source": [
    "## Granger's Causality Test"
   ]
  },
  {
   "cell_type": "markdown",
   "metadata": {},
   "source": [
    "### Data Preparation"
   ]
  },
  {
   "cell_type": "code",
   "execution_count": 152,
   "metadata": {},
   "outputs": [],
   "source": [
    "# Transform - Apply differencing to the columns to create stationary data"
   ]
  },
  {
   "cell_type": "code",
   "execution_count": 153,
   "metadata": {},
   "outputs": [],
   "source": [
    "gDf['GlobalEPU'] = np.diff(gDf['GlobalEPU'], prepend=gDf['GlobalEPU'][0])\n",
    "gDf['BTC'] = np.diff(gDf['BTC'], prepend=gDf['BTC'][0])\n",
    "gDf['TPU'] = np.diff(gDf['TPU'], prepend=gDf['TPU'][0])\n",
    "gDf['News'] = np.diff(gDf['News'], prepend=gDf['News'][0])\n",
    "gDf['FedState'] = np.diff(gDf['FedState'], prepend=gDf['FedState'][0])\n",
    "gDf['CPI'] = np.diff(gDf['CPI'], prepend=gDf['CPI'][0])\n",
    "gDf['Tax'] = np.diff(gDf['Tax'], prepend=gDf['Tax'][0])"
   ]
  },
  {
   "cell_type": "code",
   "execution_count": 154,
   "metadata": {},
   "outputs": [],
   "source": [
    "# Stationary Check - needed as Granger assumes that the data is stationary"
   ]
  },
  {
   "cell_type": "code",
   "execution_count": 155,
   "metadata": {},
   "outputs": [
    {
     "name": "stdout",
     "output_type": "stream",
     "text": [
      "Augmented Dickey-Fuller Test: Global EPU Time Series\n",
      "ADF Statistic: -6.507074\n",
      "p-value: 0.000000\n",
      "Critical Values:\n",
      "\t1%: -3.532\n",
      "\t5%: -2.906\n",
      "\t10%: -2.590\n",
      "Augmented Dickey-Fuller Test: BTC Price Time Series\n",
      "ADF Statistic: -8.247094\n",
      "p-value: 0.000000\n",
      "Critical Values:\n",
      "\t1%: -3.527\n",
      "\t5%: -2.904\n",
      "\t10%: -2.589\n",
      "Augmented Dickey-Fuller Test: China TPU Time Series\n",
      "ADF Statistic: -9.652311\n",
      "p-value: 0.000000\n",
      "Critical Values:\n",
      "\t1%: -3.529\n",
      "\t5%: -2.904\n",
      "\t10%: -2.590\n",
      "Augmented Dickey-Fuller Test: US News Index Time Series\n",
      "ADF Statistic: -6.769517\n",
      "p-value: 0.000000\n",
      "Critical Values:\n",
      "\t1%: -3.532\n",
      "\t5%: -2.906\n",
      "\t10%: -2.590\n",
      "Augmented Dickey-Fuller Test: US Federal and State Disagreement Index Time Series\n",
      "ADF Statistic: -8.299840\n",
      "p-value: 0.000000\n",
      "Critical Values:\n",
      "\t1%: -3.527\n",
      "\t5%: -2.904\n",
      "\t10%: -2.589\n",
      "Augmented Dickey-Fuller Test: US CPI Time Series\n",
      "ADF Statistic: -8.428358\n",
      "p-value: 0.000000\n",
      "Critical Values:\n",
      "\t1%: -3.530\n",
      "\t5%: -2.905\n",
      "\t10%: -2.590\n",
      "Augmented Dickey-Fuller Test: US Tax Time Series\n",
      "ADF Statistic: -4.657849\n",
      "p-value: 0.000101\n",
      "Critical Values:\n",
      "\t1%: -3.546\n",
      "\t5%: -2.912\n",
      "\t10%: -2.594\n"
     ]
    }
   ],
   "source": [
    "from statsmodels.tsa.stattools import adfuller\n",
    "\n",
    "def augmented_dickey_fuller_statistics(time_series):\n",
    "    result = adfuller(time_series.values)\n",
    "    print('ADF Statistic: %f' % result[0])\n",
    "    print('p-value: %f' % result[1])\n",
    "    print('Critical Values:')\n",
    "    for key, value in result[4].items():\n",
    "        print('\\t%s: %.3f' % (key, value))\n",
    "\n",
    "print('Augmented Dickey-Fuller Test: Global EPU Time Series')\n",
    "augmented_dickey_fuller_statistics(gDf['GlobalEPU'])\n",
    "        \n",
    "print('Augmented Dickey-Fuller Test: BTC Price Time Series')\n",
    "augmented_dickey_fuller_statistics(gDf['BTC'])\n",
    "\n",
    "print('Augmented Dickey-Fuller Test: China TPU Time Series')\n",
    "augmented_dickey_fuller_statistics(gDf['TPU'])\n",
    "\n",
    "print('Augmented Dickey-Fuller Test: US News Index Time Series')\n",
    "augmented_dickey_fuller_statistics(gDf['News'])\n",
    "\n",
    "print('Augmented Dickey-Fuller Test: US Federal and State Disagreement Index Time Series')\n",
    "augmented_dickey_fuller_statistics(gDf['FedState'])\n",
    "\n",
    "print('Augmented Dickey-Fuller Test: US CPI Time Series')\n",
    "augmented_dickey_fuller_statistics(gDf['CPI'])\n",
    "\n",
    "print('Augmented Dickey-Fuller Test: US Tax Time Series')\n",
    "augmented_dickey_fuller_statistics(gDf['Tax'])"
   ]
  },
  {
   "cell_type": "markdown",
   "metadata": {},
   "source": [
    "Once differentiated to the first order, it looks like all of the series are stationary."
   ]
  },
  {
   "cell_type": "markdown",
   "metadata": {},
   "source": [
    "### Granger Test Parameters Setting"
   ]
  },
  {
   "cell_type": "code",
   "execution_count": 156,
   "metadata": {},
   "outputs": [],
   "source": [
    "from statsmodels.tsa.stattools import grangercausalitytests"
   ]
  },
  {
   "cell_type": "markdown",
   "metadata": {},
   "source": [
    "The null hypothesis for all four test is that the coefficients corresponding to past values of the second time series are zero.\n",
    "\n",
    "- “params_ftest”, “ssr_ftest” are based on F distribution\n",
    "\n",
    "- “ssr_chi2test”, “lrtest” are based on chi-square distribution"
   ]
  },
  {
   "cell_type": "code",
   "execution_count": 157,
   "metadata": {},
   "outputs": [],
   "source": [
    "test = 'ssr-chi2test'"
   ]
  },
  {
   "cell_type": "markdown",
   "metadata": {},
   "source": [
    "We use a maximum lag of 12, as we have 12 months in a year.  Possibly seasonal effects and also economic indicators are generally \"stationary\" on a yearly basis."
   ]
  },
  {
   "cell_type": "code",
   "execution_count": 158,
   "metadata": {},
   "outputs": [],
   "source": [
    "maxlag=12"
   ]
  },
  {
   "cell_type": "markdown",
   "metadata": {},
   "source": [
    "### Function to create a matrix to show the null hypothesis"
   ]
  },
  {
   "cell_type": "code",
   "execution_count": 159,
   "metadata": {},
   "outputs": [],
   "source": [
    "def grangers_causality_matrix(X, variables, test = 'ssr_chi2test', verbose=False):\n",
    "    dataset = pd.DataFrame(np.zeros((len(variables), len(variables))), columns=variables, index=variables)\n",
    "    for c in dataset.columns:\n",
    "        for r in dataset.index:\n",
    "            test_result = grangercausalitytests(X[[r,c]], maxlag=maxlag, verbose=False)\n",
    "            p_values = [round(test_result[i+1][0][test][1],4) for i in range(maxlag)]\n",
    "            if verbose:\n",
    "                print(f'Y = {r}, X = {c}, P Values = {p_values}')\n",
    "            min_p_value = np.min(p_values)\n",
    "            dataset.loc[r,c] = min_p_value\n",
    "    dataset.columns = [var + '_x' for var in variables]\n",
    "    dataset.index = [var + '_y' for var in variables]\n",
    "    return dataset"
   ]
  },
  {
   "cell_type": "markdown",
   "metadata": {},
   "source": [
    "### Test"
   ]
  },
  {
   "cell_type": "code",
   "execution_count": 160,
   "metadata": {},
   "outputs": [
    {
     "data": {
      "text/html": [
       "<div>\n",
       "<style scoped>\n",
       "    .dataframe tbody tr th:only-of-type {\n",
       "        vertical-align: middle;\n",
       "    }\n",
       "\n",
       "    .dataframe tbody tr th {\n",
       "        vertical-align: top;\n",
       "    }\n",
       "\n",
       "    .dataframe thead th {\n",
       "        text-align: right;\n",
       "    }\n",
       "</style>\n",
       "<table border=\"1\" class=\"dataframe\">\n",
       "  <thead>\n",
       "    <tr style=\"text-align: right;\">\n",
       "      <th></th>\n",
       "      <th>GlobalEPU_x</th>\n",
       "      <th>BTC_x</th>\n",
       "      <th>TPU_x</th>\n",
       "      <th>News_x</th>\n",
       "      <th>FedState_x</th>\n",
       "      <th>CPI_x</th>\n",
       "      <th>Tax_x</th>\n",
       "    </tr>\n",
       "  </thead>\n",
       "  <tbody>\n",
       "    <tr>\n",
       "      <th>GlobalEPU_y</th>\n",
       "      <td>1.0000</td>\n",
       "      <td>0.0461</td>\n",
       "      <td>0.0094</td>\n",
       "      <td>0.0435</td>\n",
       "      <td>0.0133</td>\n",
       "      <td>0.0145</td>\n",
       "      <td>0.0004</td>\n",
       "    </tr>\n",
       "    <tr>\n",
       "      <th>BTC_y</th>\n",
       "      <td>0.0034</td>\n",
       "      <td>1.0000</td>\n",
       "      <td>0.0000</td>\n",
       "      <td>0.5195</td>\n",
       "      <td>0.0019</td>\n",
       "      <td>0.0000</td>\n",
       "      <td>0.8999</td>\n",
       "    </tr>\n",
       "    <tr>\n",
       "      <th>TPU_y</th>\n",
       "      <td>0.2463</td>\n",
       "      <td>0.0000</td>\n",
       "      <td>1.0000</td>\n",
       "      <td>0.3040</td>\n",
       "      <td>0.0396</td>\n",
       "      <td>0.0669</td>\n",
       "      <td>0.6760</td>\n",
       "    </tr>\n",
       "    <tr>\n",
       "      <th>News_y</th>\n",
       "      <td>0.2293</td>\n",
       "      <td>0.2645</td>\n",
       "      <td>0.0000</td>\n",
       "      <td>1.0000</td>\n",
       "      <td>0.0094</td>\n",
       "      <td>0.0952</td>\n",
       "      <td>0.0048</td>\n",
       "    </tr>\n",
       "    <tr>\n",
       "      <th>FedState_y</th>\n",
       "      <td>0.0102</td>\n",
       "      <td>0.0059</td>\n",
       "      <td>0.0000</td>\n",
       "      <td>0.0000</td>\n",
       "      <td>1.0000</td>\n",
       "      <td>0.0000</td>\n",
       "      <td>0.6959</td>\n",
       "    </tr>\n",
       "    <tr>\n",
       "      <th>CPI_y</th>\n",
       "      <td>0.0005</td>\n",
       "      <td>0.0071</td>\n",
       "      <td>0.0213</td>\n",
       "      <td>0.0086</td>\n",
       "      <td>0.0000</td>\n",
       "      <td>1.0000</td>\n",
       "      <td>0.0050</td>\n",
       "    </tr>\n",
       "    <tr>\n",
       "      <th>Tax_y</th>\n",
       "      <td>0.3014</td>\n",
       "      <td>0.8924</td>\n",
       "      <td>0.8929</td>\n",
       "      <td>0.4728</td>\n",
       "      <td>0.0016</td>\n",
       "      <td>0.0397</td>\n",
       "      <td>1.0000</td>\n",
       "    </tr>\n",
       "  </tbody>\n",
       "</table>\n",
       "</div>"
      ],
      "text/plain": [
       "             GlobalEPU_x   BTC_x   TPU_x  News_x  FedState_x   CPI_x   Tax_x\n",
       "GlobalEPU_y       1.0000  0.0461  0.0094  0.0435      0.0133  0.0145  0.0004\n",
       "BTC_y             0.0034  1.0000  0.0000  0.5195      0.0019  0.0000  0.8999\n",
       "TPU_y             0.2463  0.0000  1.0000  0.3040      0.0396  0.0669  0.6760\n",
       "News_y            0.2293  0.2645  0.0000  1.0000      0.0094  0.0952  0.0048\n",
       "FedState_y        0.0102  0.0059  0.0000  0.0000      1.0000  0.0000  0.6959\n",
       "CPI_y             0.0005  0.0071  0.0213  0.0086      0.0000  1.0000  0.0050\n",
       "Tax_y             0.3014  0.8924  0.8929  0.4728      0.0016  0.0397  1.0000"
      ]
     },
     "execution_count": 160,
     "metadata": {},
     "output_type": "execute_result"
    }
   ],
   "source": [
    "grangers_causality_matrix(gDf, variables = gDf.columns)"
   ]
  },
  {
   "cell_type": "markdown",
   "metadata": {},
   "source": [
    "Note: x causes y\n",
    "\n",
    "GlobalEPU, China TPU, CPI seems to have a null hypothesis against causation on BTC. (Need to know what this actually means)."
   ]
  },
  {
   "cell_type": "code",
   "execution_count": null,
   "metadata": {},
   "outputs": [],
   "source": []
  }
 ],
 "metadata": {
  "kernelspec": {
   "display_name": "Python 3",
   "language": "python",
   "name": "python3"
  },
  "language_info": {
   "codemirror_mode": {
    "name": "ipython",
    "version": 3
   },
   "file_extension": ".py",
   "mimetype": "text/x-python",
   "name": "python",
   "nbconvert_exporter": "python",
   "pygments_lexer": "ipython3",
   "version": "3.7.3"
  }
 },
 "nbformat": 4,
 "nbformat_minor": 2
}
